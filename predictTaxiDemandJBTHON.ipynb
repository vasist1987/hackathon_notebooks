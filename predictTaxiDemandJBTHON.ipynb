{
  "cells": [
    {
      "cell_type": "markdown",
      "metadata": {
        "id": "view-in-github",
        "colab_type": "text"
      },
      "source": [
        "<a href=\"https://colab.research.google.com/github/vasist1987/hackathon_notebooks/blob/master/predictTaxiDemandJBTHON.ipynb\" target=\"_parent\"><img src=\"https://colab.research.google.com/assets/colab-badge.svg\" alt=\"Open In Colab\"/></a>"
      ]
    },
    {
      "cell_type": "markdown",
      "metadata": {
        "id": "BlRVOxWXciDz"
      },
      "source": [
        "## Importing necessary libraries\n"
      ]
    },
    {
      "cell_type": "code",
      "execution_count": 1,
      "metadata": {
        "colab": {
          "base_uri": "https://localhost:8080/"
        },
        "id": "eWOeW1WNb_4I",
        "outputId": "ff34e897-e907-44a0-c89a-43b301d23277"
      },
      "outputs": [
        {
          "output_type": "stream",
          "name": "stdout",
          "text": [
            "Requirement already satisfied: prophet in /usr/local/lib/python3.7/dist-packages (1.0.1)\n",
            "Requirement already satisfied: Cython>=0.22 in /usr/local/lib/python3.7/dist-packages (from prophet) (0.29.28)\n",
            "Requirement already satisfied: pandas>=1.0.4 in /usr/local/lib/python3.7/dist-packages (from prophet) (1.3.5)\n",
            "Requirement already satisfied: tqdm>=4.36.1 in /usr/local/lib/python3.7/dist-packages (from prophet) (4.64.0)\n",
            "Requirement already satisfied: cmdstanpy==0.9.68 in /usr/local/lib/python3.7/dist-packages (from prophet) (0.9.68)\n",
            "Requirement already satisfied: pystan~=2.19.1.1 in /usr/local/lib/python3.7/dist-packages (from prophet) (2.19.1.1)\n",
            "Requirement already satisfied: LunarCalendar>=0.0.9 in /usr/local/lib/python3.7/dist-packages (from prophet) (0.0.9)\n",
            "Requirement already satisfied: convertdate>=2.1.2 in /usr/local/lib/python3.7/dist-packages (from prophet) (2.4.0)\n",
            "Requirement already satisfied: python-dateutil>=2.8.0 in /usr/local/lib/python3.7/dist-packages (from prophet) (2.8.2)\n",
            "Requirement already satisfied: numpy>=1.15.4 in /usr/local/lib/python3.7/dist-packages (from prophet) (1.21.6)\n",
            "Requirement already satisfied: matplotlib>=2.0.0 in /usr/local/lib/python3.7/dist-packages (from prophet) (3.2.2)\n",
            "Requirement already satisfied: holidays>=0.10.2 in /usr/local/lib/python3.7/dist-packages (from prophet) (0.10.5.2)\n",
            "Requirement already satisfied: setuptools-git>=1.2 in /usr/local/lib/python3.7/dist-packages (from prophet) (1.2)\n",
            "Requirement already satisfied: ujson in /usr/local/lib/python3.7/dist-packages (from cmdstanpy==0.9.68->prophet) (5.2.0)\n",
            "Requirement already satisfied: pymeeus<=1,>=0.3.13 in /usr/local/lib/python3.7/dist-packages (from convertdate>=2.1.2->prophet) (0.5.11)\n",
            "Requirement already satisfied: six in /usr/local/lib/python3.7/dist-packages (from holidays>=0.10.2->prophet) (1.15.0)\n",
            "Requirement already satisfied: korean-lunar-calendar in /usr/local/lib/python3.7/dist-packages (from holidays>=0.10.2->prophet) (0.2.1)\n",
            "Requirement already satisfied: hijri-converter in /usr/local/lib/python3.7/dist-packages (from holidays>=0.10.2->prophet) (2.2.3)\n",
            "Requirement already satisfied: pytz in /usr/local/lib/python3.7/dist-packages (from LunarCalendar>=0.0.9->prophet) (2022.1)\n",
            "Requirement already satisfied: ephem>=3.7.5.3 in /usr/local/lib/python3.7/dist-packages (from LunarCalendar>=0.0.9->prophet) (4.1.3)\n",
            "Requirement already satisfied: cycler>=0.10 in /usr/local/lib/python3.7/dist-packages (from matplotlib>=2.0.0->prophet) (0.11.0)\n",
            "Requirement already satisfied: pyparsing!=2.0.4,!=2.1.2,!=2.1.6,>=2.0.1 in /usr/local/lib/python3.7/dist-packages (from matplotlib>=2.0.0->prophet) (3.0.8)\n",
            "Requirement already satisfied: kiwisolver>=1.0.1 in /usr/local/lib/python3.7/dist-packages (from matplotlib>=2.0.0->prophet) (1.4.2)\n",
            "Requirement already satisfied: typing-extensions in /usr/local/lib/python3.7/dist-packages (from kiwisolver>=1.0.1->matplotlib>=2.0.0->prophet) (4.1.1)\n",
            "Requirement already satisfied: optuna in /usr/local/lib/python3.7/dist-packages (2.10.0)\n",
            "Requirement already satisfied: packaging>=20.0 in /usr/local/lib/python3.7/dist-packages (from optuna) (21.3)\n",
            "Requirement already satisfied: sqlalchemy>=1.1.0 in /usr/local/lib/python3.7/dist-packages (from optuna) (1.4.35)\n",
            "Requirement already satisfied: colorlog in /usr/local/lib/python3.7/dist-packages (from optuna) (6.6.0)\n",
            "Requirement already satisfied: tqdm in /usr/local/lib/python3.7/dist-packages (from optuna) (4.64.0)\n",
            "Requirement already satisfied: PyYAML in /usr/local/lib/python3.7/dist-packages (from optuna) (3.13)\n",
            "Requirement already satisfied: cmaes>=0.8.2 in /usr/local/lib/python3.7/dist-packages (from optuna) (0.8.2)\n",
            "Requirement already satisfied: numpy in /usr/local/lib/python3.7/dist-packages (from optuna) (1.21.6)\n",
            "Requirement already satisfied: cliff in /usr/local/lib/python3.7/dist-packages (from optuna) (3.10.1)\n",
            "Requirement already satisfied: alembic in /usr/local/lib/python3.7/dist-packages (from optuna) (1.7.7)\n",
            "Requirement already satisfied: scipy!=1.4.0 in /usr/local/lib/python3.7/dist-packages (from optuna) (1.4.1)\n",
            "Requirement already satisfied: pyparsing!=3.0.5,>=2.0.2 in /usr/local/lib/python3.7/dist-packages (from packaging>=20.0->optuna) (3.0.8)\n",
            "Requirement already satisfied: greenlet!=0.4.17 in /usr/local/lib/python3.7/dist-packages (from sqlalchemy>=1.1.0->optuna) (1.1.2)\n",
            "Requirement already satisfied: importlib-metadata in /usr/local/lib/python3.7/dist-packages (from sqlalchemy>=1.1.0->optuna) (4.11.3)\n",
            "Requirement already satisfied: importlib-resources in /usr/local/lib/python3.7/dist-packages (from alembic->optuna) (5.7.0)\n",
            "Requirement already satisfied: Mako in /usr/local/lib/python3.7/dist-packages (from alembic->optuna) (1.2.0)\n",
            "Requirement already satisfied: stevedore>=2.0.1 in /usr/local/lib/python3.7/dist-packages (from cliff->optuna) (3.5.0)\n",
            "Requirement already satisfied: PrettyTable>=0.7.2 in /usr/local/lib/python3.7/dist-packages (from cliff->optuna) (3.2.0)\n",
            "Requirement already satisfied: cmd2>=1.0.0 in /usr/local/lib/python3.7/dist-packages (from cliff->optuna) (2.4.1)\n",
            "Requirement already satisfied: pbr!=2.1.0,>=2.0.0 in /usr/local/lib/python3.7/dist-packages (from cliff->optuna) (5.8.1)\n",
            "Requirement already satisfied: autopage>=0.4.0 in /usr/local/lib/python3.7/dist-packages (from cliff->optuna) (0.5.0)\n",
            "Requirement already satisfied: attrs>=16.3.0 in /usr/local/lib/python3.7/dist-packages (from cmd2>=1.0.0->cliff->optuna) (21.4.0)\n",
            "Requirement already satisfied: typing-extensions in /usr/local/lib/python3.7/dist-packages (from cmd2>=1.0.0->cliff->optuna) (4.1.1)\n",
            "Requirement already satisfied: wcwidth>=0.1.7 in /usr/local/lib/python3.7/dist-packages (from cmd2>=1.0.0->cliff->optuna) (0.2.5)\n",
            "Requirement already satisfied: pyperclip>=1.6 in /usr/local/lib/python3.7/dist-packages (from cmd2>=1.0.0->cliff->optuna) (1.8.2)\n",
            "Requirement already satisfied: zipp>=0.5 in /usr/local/lib/python3.7/dist-packages (from importlib-metadata->sqlalchemy>=1.1.0->optuna) (3.8.0)\n",
            "Requirement already satisfied: MarkupSafe>=0.9.2 in /usr/local/lib/python3.7/dist-packages (from Mako->alembic->optuna) (2.0.1)\n",
            "Requirement already satisfied: pandasql in /usr/local/lib/python3.7/dist-packages (0.7.3)\n",
            "Requirement already satisfied: sqlalchemy in /usr/local/lib/python3.7/dist-packages (from pandasql) (1.4.35)\n",
            "Requirement already satisfied: pandas in /usr/local/lib/python3.7/dist-packages (from pandasql) (1.3.5)\n",
            "Requirement already satisfied: numpy in /usr/local/lib/python3.7/dist-packages (from pandasql) (1.21.6)\n",
            "Requirement already satisfied: python-dateutil>=2.7.3 in /usr/local/lib/python3.7/dist-packages (from pandas->pandasql) (2.8.2)\n",
            "Requirement already satisfied: pytz>=2017.3 in /usr/local/lib/python3.7/dist-packages (from pandas->pandasql) (2022.1)\n",
            "Requirement already satisfied: six>=1.5 in /usr/local/lib/python3.7/dist-packages (from python-dateutil>=2.7.3->pandas->pandasql) (1.15.0)\n",
            "Requirement already satisfied: greenlet!=0.4.17 in /usr/local/lib/python3.7/dist-packages (from sqlalchemy->pandasql) (1.1.2)\n",
            "Requirement already satisfied: importlib-metadata in /usr/local/lib/python3.7/dist-packages (from sqlalchemy->pandasql) (4.11.3)\n",
            "Requirement already satisfied: typing-extensions>=3.6.4 in /usr/local/lib/python3.7/dist-packages (from importlib-metadata->sqlalchemy->pandasql) (4.1.1)\n",
            "Requirement already satisfied: zipp>=0.5 in /usr/local/lib/python3.7/dist-packages (from importlib-metadata->sqlalchemy->pandasql) (3.8.0)\n"
          ]
        }
      ],
      "source": [
        "import pandas as pd\n",
        "!pip install prophet\n",
        "from prophet import Prophet\n",
        "import matplotlib.pyplot as plt\n",
        "import seaborn as sns\n",
        "import numpy as np\n",
        "import datetime\n",
        "from scipy import signal\n",
        "from sklearn.preprocessing import MinMaxScaler\n",
        "from sklearn.model_selection import train_test_split\n",
        "import lightgbm as lgb\n",
        "from lightgbm import LGBMClassifier\n",
        "!pip install optuna\n",
        "import optuna\n",
        "!pip install pandasql\n",
        "from pandasql import sqldf\n",
        "from sklearn.metrics import make_scorer, mean_absolute_error\n",
        "from sklearn.metrics import mean_squared_error as MSE\n",
        "from warnings import simplefilter\n",
        "from math import sqrt\n"
      ]
    },
    {
      "cell_type": "code",
      "execution_count": 2,
      "metadata": {
        "id": "yNCTDxmTcllp"
      },
      "outputs": [],
      "source": [
        "train=pd.read_csv(\"/content/train_E1GspfA.csv\")\n",
        "test=pd.read_csv(\"/content/test_6QvDdzb.csv\")\n",
        "sample_submission=pd.read_csv(\"/content/sample_4E0BhPN.csv\")"
      ]
    },
    {
      "cell_type": "code",
      "execution_count": 3,
      "metadata": {
        "id": "RQ_ddFSHRVk7"
      },
      "outputs": [],
      "source": [
        "# train['date_new'] = pd.to_datetime(train.date)\n",
        "train['date_new']=pd.to_datetime(train.date+\" \"+train.hour.astype(str).str.pad(2, side='left', fillchar='0')+\":00:00\")\n",
        "test['date_new']=pd.to_datetime(test.date+\" \"+test.hour.astype(str).str.pad(2, side='left', fillchar='0')+\":00:00\")"
      ]
    },
    {
      "cell_type": "code",
      "execution_count": 4,
      "metadata": {
        "id": "NKMglvdwQ3xL"
      },
      "outputs": [],
      "source": [
        "# df=train.drop(['date','hour'],axis=1)[['date_new','demand']]\n",
        "# df.columns=['ds','y']\n",
        "# df.head()"
      ]
    },
    {
      "cell_type": "code",
      "execution_count": 5,
      "metadata": {
        "id": "fttldiecSik4"
      },
      "outputs": [],
      "source": [
        "# m = Prophet(interval_width = 0.95,mcmc_samples=30)\n",
        "# m.fit(df)"
      ]
    },
    {
      "cell_type": "code",
      "execution_count": 6,
      "metadata": {
        "id": "wMSZF7tMSyXU"
      },
      "outputs": [],
      "source": [
        "# future = m.make_future_dataframe(periods=365)\n",
        "# future.tail()"
      ]
    },
    {
      "cell_type": "code",
      "execution_count": 7,
      "metadata": {
        "id": "QEnlsnv0BFrs"
      },
      "outputs": [],
      "source": [
        "# y_pred=m.predict(pd.DataFrame(df.ds))\n",
        "# sqrt(MSE(df.y, y_pred['yhat']))\n"
      ]
    },
    {
      "cell_type": "code",
      "execution_count": 8,
      "metadata": {
        "id": "A-GZpmmCS6H4"
      },
      "outputs": [],
      "source": [
        "# yy=m.predict(pd.DataFrame(df.ds))\n"
      ]
    },
    {
      "cell_type": "code",
      "execution_count": 9,
      "metadata": {
        "id": "-lLSOFhUTawP"
      },
      "outputs": [],
      "source": [
        "# pd.concat([yy.yhat,df],axis=1).tail(20)"
      ]
    },
    {
      "cell_type": "code",
      "execution_count": 10,
      "metadata": {
        "id": "6w1CqBSQe6sV"
      },
      "outputs": [],
      "source": [
        "train['date_new'] = pd.to_datetime(train.date)\n",
        "train['dayOfWeek']=train.date_new.dt.dayofweek\n",
        "test['date_new'] = pd.to_datetime(test.date)\n",
        "test['dayOfWeek']=test.date_new.dt.dayofweek"
      ]
    },
    {
      "cell_type": "code",
      "execution_count": 11,
      "metadata": {
        "colab": {
          "base_uri": "https://localhost:8080/",
          "height": 206
        },
        "id": "tkNv9lQQi2VA",
        "outputId": "6a34ef94-deec-4818-dcd0-852eba86424c"
      },
      "outputs": [
        {
          "output_type": "execute_result",
          "data": {
            "text/plain": [
              "         date  hour  demand   date_new  dayOfWeek\n",
              "0  2018-08-18     9      91 2018-08-18          5\n",
              "1  2018-08-18    10      21 2018-08-18          5\n",
              "2  2018-08-18    13      23 2018-08-18          5\n",
              "3  2018-08-18    14     104 2018-08-18          5\n",
              "4  2018-08-18    15      81 2018-08-18          5"
            ],
            "text/html": [
              "\n",
              "  <div id=\"df-0f6bdc86-8bef-4d78-9ecf-6a9a5f0d871b\">\n",
              "    <div class=\"colab-df-container\">\n",
              "      <div>\n",
              "<style scoped>\n",
              "    .dataframe tbody tr th:only-of-type {\n",
              "        vertical-align: middle;\n",
              "    }\n",
              "\n",
              "    .dataframe tbody tr th {\n",
              "        vertical-align: top;\n",
              "    }\n",
              "\n",
              "    .dataframe thead th {\n",
              "        text-align: right;\n",
              "    }\n",
              "</style>\n",
              "<table border=\"1\" class=\"dataframe\">\n",
              "  <thead>\n",
              "    <tr style=\"text-align: right;\">\n",
              "      <th></th>\n",
              "      <th>date</th>\n",
              "      <th>hour</th>\n",
              "      <th>demand</th>\n",
              "      <th>date_new</th>\n",
              "      <th>dayOfWeek</th>\n",
              "    </tr>\n",
              "  </thead>\n",
              "  <tbody>\n",
              "    <tr>\n",
              "      <th>0</th>\n",
              "      <td>2018-08-18</td>\n",
              "      <td>9</td>\n",
              "      <td>91</td>\n",
              "      <td>2018-08-18</td>\n",
              "      <td>5</td>\n",
              "    </tr>\n",
              "    <tr>\n",
              "      <th>1</th>\n",
              "      <td>2018-08-18</td>\n",
              "      <td>10</td>\n",
              "      <td>21</td>\n",
              "      <td>2018-08-18</td>\n",
              "      <td>5</td>\n",
              "    </tr>\n",
              "    <tr>\n",
              "      <th>2</th>\n",
              "      <td>2018-08-18</td>\n",
              "      <td>13</td>\n",
              "      <td>23</td>\n",
              "      <td>2018-08-18</td>\n",
              "      <td>5</td>\n",
              "    </tr>\n",
              "    <tr>\n",
              "      <th>3</th>\n",
              "      <td>2018-08-18</td>\n",
              "      <td>14</td>\n",
              "      <td>104</td>\n",
              "      <td>2018-08-18</td>\n",
              "      <td>5</td>\n",
              "    </tr>\n",
              "    <tr>\n",
              "      <th>4</th>\n",
              "      <td>2018-08-18</td>\n",
              "      <td>15</td>\n",
              "      <td>81</td>\n",
              "      <td>2018-08-18</td>\n",
              "      <td>5</td>\n",
              "    </tr>\n",
              "  </tbody>\n",
              "</table>\n",
              "</div>\n",
              "      <button class=\"colab-df-convert\" onclick=\"convertToInteractive('df-0f6bdc86-8bef-4d78-9ecf-6a9a5f0d871b')\"\n",
              "              title=\"Convert this dataframe to an interactive table.\"\n",
              "              style=\"display:none;\">\n",
              "        \n",
              "  <svg xmlns=\"http://www.w3.org/2000/svg\" height=\"24px\"viewBox=\"0 0 24 24\"\n",
              "       width=\"24px\">\n",
              "    <path d=\"M0 0h24v24H0V0z\" fill=\"none\"/>\n",
              "    <path d=\"M18.56 5.44l.94 2.06.94-2.06 2.06-.94-2.06-.94-.94-2.06-.94 2.06-2.06.94zm-11 1L8.5 8.5l.94-2.06 2.06-.94-2.06-.94L8.5 2.5l-.94 2.06-2.06.94zm10 10l.94 2.06.94-2.06 2.06-.94-2.06-.94-.94-2.06-.94 2.06-2.06.94z\"/><path d=\"M17.41 7.96l-1.37-1.37c-.4-.4-.92-.59-1.43-.59-.52 0-1.04.2-1.43.59L10.3 9.45l-7.72 7.72c-.78.78-.78 2.05 0 2.83L4 21.41c.39.39.9.59 1.41.59.51 0 1.02-.2 1.41-.59l7.78-7.78 2.81-2.81c.8-.78.8-2.07 0-2.86zM5.41 20L4 18.59l7.72-7.72 1.47 1.35L5.41 20z\"/>\n",
              "  </svg>\n",
              "      </button>\n",
              "      \n",
              "  <style>\n",
              "    .colab-df-container {\n",
              "      display:flex;\n",
              "      flex-wrap:wrap;\n",
              "      gap: 12px;\n",
              "    }\n",
              "\n",
              "    .colab-df-convert {\n",
              "      background-color: #E8F0FE;\n",
              "      border: none;\n",
              "      border-radius: 50%;\n",
              "      cursor: pointer;\n",
              "      display: none;\n",
              "      fill: #1967D2;\n",
              "      height: 32px;\n",
              "      padding: 0 0 0 0;\n",
              "      width: 32px;\n",
              "    }\n",
              "\n",
              "    .colab-df-convert:hover {\n",
              "      background-color: #E2EBFA;\n",
              "      box-shadow: 0px 1px 2px rgba(60, 64, 67, 0.3), 0px 1px 3px 1px rgba(60, 64, 67, 0.15);\n",
              "      fill: #174EA6;\n",
              "    }\n",
              "\n",
              "    [theme=dark] .colab-df-convert {\n",
              "      background-color: #3B4455;\n",
              "      fill: #D2E3FC;\n",
              "    }\n",
              "\n",
              "    [theme=dark] .colab-df-convert:hover {\n",
              "      background-color: #434B5C;\n",
              "      box-shadow: 0px 1px 3px 1px rgba(0, 0, 0, 0.15);\n",
              "      filter: drop-shadow(0px 1px 2px rgba(0, 0, 0, 0.3));\n",
              "      fill: #FFFFFF;\n",
              "    }\n",
              "  </style>\n",
              "\n",
              "      <script>\n",
              "        const buttonEl =\n",
              "          document.querySelector('#df-0f6bdc86-8bef-4d78-9ecf-6a9a5f0d871b button.colab-df-convert');\n",
              "        buttonEl.style.display =\n",
              "          google.colab.kernel.accessAllowed ? 'block' : 'none';\n",
              "\n",
              "        async function convertToInteractive(key) {\n",
              "          const element = document.querySelector('#df-0f6bdc86-8bef-4d78-9ecf-6a9a5f0d871b');\n",
              "          const dataTable =\n",
              "            await google.colab.kernel.invokeFunction('convertToInteractive',\n",
              "                                                     [key], {});\n",
              "          if (!dataTable) return;\n",
              "\n",
              "          const docLinkHtml = 'Like what you see? Visit the ' +\n",
              "            '<a target=\"_blank\" href=https://colab.research.google.com/notebooks/data_table.ipynb>data table notebook</a>'\n",
              "            + ' to learn more about interactive tables.';\n",
              "          element.innerHTML = '';\n",
              "          dataTable['output_type'] = 'display_data';\n",
              "          await google.colab.output.renderOutput(dataTable, element);\n",
              "          const docLink = document.createElement('div');\n",
              "          docLink.innerHTML = docLinkHtml;\n",
              "          element.appendChild(docLink);\n",
              "        }\n",
              "      </script>\n",
              "    </div>\n",
              "  </div>\n",
              "  "
            ]
          },
          "metadata": {},
          "execution_count": 11
        }
      ],
      "source": [
        "train.head()"
      ]
    },
    {
      "cell_type": "code",
      "execution_count": 12,
      "metadata": {
        "colab": {
          "base_uri": "https://localhost:8080/",
          "height": 1000
        },
        "id": "MtfshXt_dB7V",
        "outputId": "e34b8d4d-4a23-4b50-d91d-ba5d261cb828"
      },
      "outputs": [
        {
          "output_type": "display_data",
          "data": {
            "text/plain": [
              "<Figure size 432x288 with 1 Axes>"
            ],
            "image/png": "[encoded data removed]"
          },
          "metadata": {}
        },
        {
          "output_type": "display_data",
          "data": {
            "text/plain": [
              "<Figure size 432x288 with 1 Axes>"
            ],
            "image/png": "[encoded data removed]"
          },
          "metadata": {}
        },
        {
          "output_type": "display_data",
          "data": {
            "text/plain": [
              "<Figure size 432x288 with 1 Axes>"
            ],
            "image/png": "[encoded data removed]"
          },
          "metadata": {}
        },
        {
          "output_type": "display_data",
          "data": {
            "text/plain": [
              "<Figure size 432x288 with 1 Axes>"
            ],
            "image/png": "[encoded data removed]"
          },
          "metadata": {}
        },
        {
          "output_type": "display_data",
          "data": {
            "text/plain": [
              "<Figure size 432x288 with 1 Axes>"
            ],
            "image/png": "[encoded data removed]"
          },
          "metadata": {}
        },
        {
          "output_type": "display_data",
          "data": {
            "text/plain": [
              "<Figure size 432x288 with 1 Axes>"
            ],
            "image/png": "[encoded data removed]"
          },
          "metadata": {}
        },
        {
          "output_type": "display_data",
          "data": {
            "text/plain": [
              "<Figure size 432x288 with 1 Axes>"
            ],
            "image/png": "[encoded data removed]"
          },
          "metadata": {}
        },
        {
          "output_type": "display_data",
          "data": {
            "text/plain": [
              "<Figure size 432x288 with 1 Axes>"
            ],
            "image/png": "[encoded data removed]"
          },
          "metadata": {}
        }
      ],
      "source": [
        "df=pd.DataFrame(train[['dayOfWeek','demand','hour']].groupby(['hour','dayOfWeek']).sum()).reset_index()\n",
        "sns.set_theme(style=\"whitegrid\")\n",
        "plt.figure()\n",
        "sns.barplot(x=\"hour\", y=\"demand\",  data=df)\n",
        "for i in range(7):\n",
        "  plt.figure()\n",
        "  sns.barplot(x=\"hour\", y=\"demand\",hue=\"dayOfWeek\",  data=df[df.dayOfWeek==i])"
      ]
    },
    {
      "cell_type": "code",
      "execution_count": 13,
      "metadata": {
        "id": "c2mXp8E00DDt"
      },
      "outputs": [],
      "source": [
        "# train['prev_week']=train.groupby(['hour','date'])['demand'].mean()"
      ]
    },
    {
      "cell_type": "code",
      "execution_count": 14,
      "metadata": {
        "id": "5wWv9eQThBAK"
      },
      "outputs": [],
      "source": [
        "# train[(train.hour==12) & (train.dayOfWeek==2)].head()"
      ]
    },
    {
      "cell_type": "code",
      "execution_count": 15,
      "metadata": {
        "colab": {
          "base_uri": "https://localhost:8080/",
          "height": 206
        },
        "id": "cubuOvA4QvqE",
        "outputId": "e66b5e74-60b0-423f-9f80-ce4795ddd969"
      },
      "outputs": [
        {
          "output_type": "execute_result",
          "data": {
            "text/plain": [
              "         date  hour  demand   date_new  dayOfWeek  year  month  quarter\n",
              "0  2018-08-18     9      91 2018-08-18          5  2018      8        3\n",
              "1  2018-08-18    10      21 2018-08-18          5  2018      8        3\n",
              "2  2018-08-18    13      23 2018-08-18          5  2018      8        3\n",
              "3  2018-08-18    14     104 2018-08-18          5  2018      8        3\n",
              "4  2018-08-18    15      81 2018-08-18          5  2018      8        3"
            ],
            "text/html": [
              "\n",
              "  <div id=\"df-429a7436-5af6-40cc-94aa-d7e33470c92f\">\n",
              "    <div class=\"colab-df-container\">\n",
              "      <div>\n",
              "<style scoped>\n",
              "    .dataframe tbody tr th:only-of-type {\n",
              "        vertical-align: middle;\n",
              "    }\n",
              "\n",
              "    .dataframe tbody tr th {\n",
              "        vertical-align: top;\n",
              "    }\n",
              "\n",
              "    .dataframe thead th {\n",
              "        text-align: right;\n",
              "    }\n",
              "</style>\n",
              "<table border=\"1\" class=\"dataframe\">\n",
              "  <thead>\n",
              "    <tr style=\"text-align: right;\">\n",
              "      <th></th>\n",
              "      <th>date</th>\n",
              "      <th>hour</th>\n",
              "      <th>demand</th>\n",
              "      <th>date_new</th>\n",
              "      <th>dayOfWeek</th>\n",
              "      <th>year</th>\n",
              "      <th>month</th>\n",
              "      <th>quarter</th>\n",
              "    </tr>\n",
              "  </thead>\n",
              "  <tbody>\n",
              "    <tr>\n",
              "      <th>0</th>\n",
              "      <td>2018-08-18</td>\n",
              "      <td>9</td>\n",
              "      <td>91</td>\n",
              "      <td>2018-08-18</td>\n",
              "      <td>5</td>\n",
              "      <td>2018</td>\n",
              "      <td>8</td>\n",
              "      <td>3</td>\n",
              "    </tr>\n",
              "    <tr>\n",
              "      <th>1</th>\n",
              "      <td>2018-08-18</td>\n",
              "      <td>10</td>\n",
              "      <td>21</td>\n",
              "      <td>2018-08-18</td>\n",
              "      <td>5</td>\n",
              "      <td>2018</td>\n",
              "      <td>8</td>\n",
              "      <td>3</td>\n",
              "    </tr>\n",
              "    <tr>\n",
              "      <th>2</th>\n",
              "      <td>2018-08-18</td>\n",
              "      <td>13</td>\n",
              "      <td>23</td>\n",
              "      <td>2018-08-18</td>\n",
              "      <td>5</td>\n",
              "      <td>2018</td>\n",
              "      <td>8</td>\n",
              "      <td>3</td>\n",
              "    </tr>\n",
              "    <tr>\n",
              "      <th>3</th>\n",
              "      <td>2018-08-18</td>\n",
              "      <td>14</td>\n",
              "      <td>104</td>\n",
              "      <td>2018-08-18</td>\n",
              "      <td>5</td>\n",
              "      <td>2018</td>\n",
              "      <td>8</td>\n",
              "      <td>3</td>\n",
              "    </tr>\n",
              "    <tr>\n",
              "      <th>4</th>\n",
              "      <td>2018-08-18</td>\n",
              "      <td>15</td>\n",
              "      <td>81</td>\n",
              "      <td>2018-08-18</td>\n",
              "      <td>5</td>\n",
              "      <td>2018</td>\n",
              "      <td>8</td>\n",
              "      <td>3</td>\n",
              "    </tr>\n",
              "  </tbody>\n",
              "</table>\n",
              "</div>\n",
              "      <button class=\"colab-df-convert\" onclick=\"convertToInteractive('df-429a7436-5af6-40cc-94aa-d7e33470c92f')\"\n",
              "              title=\"Convert this dataframe to an interactive table.\"\n",
              "              style=\"display:none;\">\n",
              "        \n",
              "  <svg xmlns=\"http://www.w3.org/2000/svg\" height=\"24px\"viewBox=\"0 0 24 24\"\n",
              "       width=\"24px\">\n",
              "    <path d=\"M0 0h24v24H0V0z\" fill=\"none\"/>\n",
              "    <path d=\"M18.56 5.44l.94 2.06.94-2.06 2.06-.94-2.06-.94-.94-2.06-.94 2.06-2.06.94zm-11 1L8.5 8.5l.94-2.06 2.06-.94-2.06-.94L8.5 2.5l-.94 2.06-2.06.94zm10 10l.94 2.06.94-2.06 2.06-.94-2.06-.94-.94-2.06-.94 2.06-2.06.94z\"/><path d=\"M17.41 7.96l-1.37-1.37c-.4-.4-.92-.59-1.43-.59-.52 0-1.04.2-1.43.59L10.3 9.45l-7.72 7.72c-.78.78-.78 2.05 0 2.83L4 21.41c.39.39.9.59 1.41.59.51 0 1.02-.2 1.41-.59l7.78-7.78 2.81-2.81c.8-.78.8-2.07 0-2.86zM5.41 20L4 18.59l7.72-7.72 1.47 1.35L5.41 20z\"/>\n",
              "  </svg>\n",
              "      </button>\n",
              "      \n",
              "  <style>\n",
              "    .colab-df-container {\n",
              "      display:flex;\n",
              "      flex-wrap:wrap;\n",
              "      gap: 12px;\n",
              "    }\n",
              "\n",
              "    .colab-df-convert {\n",
              "      background-color: #E8F0FE;\n",
              "      border: none;\n",
              "      border-radius: 50%;\n",
              "      cursor: pointer;\n",
              "      display: none;\n",
              "      fill: #1967D2;\n",
              "      height: 32px;\n",
              "      padding: 0 0 0 0;\n",
              "      width: 32px;\n",
              "    }\n",
              "\n",
              "    .colab-df-convert:hover {\n",
              "      background-color: #E2EBFA;\n",
              "      box-shadow: 0px 1px 2px rgba(60, 64, 67, 0.3), 0px 1px 3px 1px rgba(60, 64, 67, 0.15);\n",
              "      fill: #174EA6;\n",
              "    }\n",
              "\n",
              "    [theme=dark] .colab-df-convert {\n",
              "      background-color: #3B4455;\n",
              "      fill: #D2E3FC;\n",
              "    }\n",
              "\n",
              "    [theme=dark] .colab-df-convert:hover {\n",
              "      background-color: #434B5C;\n",
              "      box-shadow: 0px 1px 3px 1px rgba(0, 0, 0, 0.15);\n",
              "      filter: drop-shadow(0px 1px 2px rgba(0, 0, 0, 0.3));\n",
              "      fill: #FFFFFF;\n",
              "    }\n",
              "  </style>\n",
              "\n",
              "      <script>\n",
              "        const buttonEl =\n",
              "          document.querySelector('#df-429a7436-5af6-40cc-94aa-d7e33470c92f button.colab-df-convert');\n",
              "        buttonEl.style.display =\n",
              "          google.colab.kernel.accessAllowed ? 'block' : 'none';\n",
              "\n",
              "        async function convertToInteractive(key) {\n",
              "          const element = document.querySelector('#df-429a7436-5af6-40cc-94aa-d7e33470c92f');\n",
              "          const dataTable =\n",
              "            await google.colab.kernel.invokeFunction('convertToInteractive',\n",
              "                                                     [key], {});\n",
              "          if (!dataTable) return;\n",
              "\n",
              "          const docLinkHtml = 'Like what you see? Visit the ' +\n",
              "            '<a target=\"_blank\" href=https://colab.research.google.com/notebooks/data_table.ipynb>data table notebook</a>'\n",
              "            + ' to learn more about interactive tables.';\n",
              "          element.innerHTML = '';\n",
              "          dataTable['output_type'] = 'display_data';\n",
              "          await google.colab.output.renderOutput(dataTable, element);\n",
              "          const docLink = document.createElement('div');\n",
              "          docLink.innerHTML = docLinkHtml;\n",
              "          element.appendChild(docLink);\n",
              "        }\n",
              "      </script>\n",
              "    </div>\n",
              "  </div>\n",
              "  "
            ]
          },
          "metadata": {},
          "execution_count": 15
        }
      ],
      "source": [
        "train['year'] = pd.DatetimeIndex(train['date_new']).year\n",
        "train['month'] = pd.DatetimeIndex(train['date_new']).month\n",
        "train['quarter'] = pd.DatetimeIndex(train['date_new']).quarter\n",
        "\n",
        "test['year'] = pd.DatetimeIndex(test['date_new']).year\n",
        "test['month'] = pd.DatetimeIndex(test['date_new']).month\n",
        "test['quarter'] = pd.DatetimeIndex(test['date_new']).quarter\n",
        "\n",
        "# train.drop(['date','date_new'],axis=1,inplace=True)\n",
        "train.head()\n"
      ]
    },
    {
      "cell_type": "code",
      "execution_count": 16,
      "metadata": {
        "id": "7n5_9NrG4PGh"
      },
      "outputs": [],
      "source": [
        "train['demand_log']=np.log10(train['demand'])\n",
        "train.loc[train['date_new'].dt.date > datetime.date(2020,1,1), 'Covid'] = 1\n",
        "train.loc[train['date_new'].dt.date <= datetime.date(2022,4,1), 'Covid'] = 0\n",
        "# test['demand_log']=np.log(test['demand'])\n",
        "test.loc[test['date_new'].dt.date > datetime.date(2020,1,1), 'Covid'] = 1\n",
        "test.loc[test['date_new'].dt.date <= datetime.date(2022,4,1), 'Covid'] = 0"
      ]
    },
    {
      "cell_type": "code",
      "execution_count": 17,
      "metadata": {
        "colab": {
          "base_uri": "https://localhost:8080/"
        },
        "id": "meLAUuh-62cu",
        "outputId": "b26a2240-537e-464f-acf9-77c026efa423"
      },
      "outputs": [
        {
          "output_type": "execute_result",
          "data": {
            "text/plain": [
              "count    18247.000000\n",
              "mean         1.784439\n",
              "std          0.307278\n",
              "min          0.000000\n",
              "25%          1.633468\n",
              "50%          1.851258\n",
              "75%          1.991226\n",
              "max          2.578639\n",
              "Name: demand_log, dtype: float64"
            ]
          },
          "metadata": {},
          "execution_count": 17
        }
      ],
      "source": [
        "train['demand_log'].describe()\n",
        "# train['demand_inverse']=10**np.log10(train[\"demand\"])\n",
        "# train"
      ]
    },
    {
      "cell_type": "code",
      "execution_count": 18,
      "metadata": {
        "colab": {
          "base_uri": "https://localhost:8080/",
          "height": 372
        },
        "id": "ws29JmEiDbFl",
        "outputId": "1dfd6645-30e6-4254-d112-a18dc2c03af3"
      },
      "outputs": [
        {
          "output_type": "execute_result",
          "data": {
            "text/plain": [
              "year\n",
              "2018    AxesSubplot(0.125,0.125;0.775x0.755)\n",
              "2019    AxesSubplot(0.125,0.125;0.775x0.755)\n",
              "2020    AxesSubplot(0.125,0.125;0.775x0.755)\n",
              "2021    AxesSubplot(0.125,0.125;0.775x0.755)\n",
              "Name: demand_log, dtype: object"
            ]
          },
          "metadata": {},
          "execution_count": 18
        },
        {
          "output_type": "display_data",
          "data": {
            "text/plain": [
              "<Figure size 432x288 with 1 Axes>"
            ],
            "image/png": "[encoded data removed]"
          },
          "metadata": {}
        }
      ],
      "source": [
        "train.groupby(['year'])['demand_log'].plot(x='year',y='demand_log')"
      ]
    },
    {
      "cell_type": "code",
      "execution_count": 18,
      "metadata": {
        "id": "7-cqvEhQ0EXG"
      },
      "outputs": [],
      "source": [
        ""
      ]
    },
    {
      "cell_type": "code",
      "execution_count": 73,
      "metadata": {
        "colab": {
          "base_uri": "https://localhost:8080/",
          "height": 487
        },
        "id": "fFmwHJY_1BDW",
        "outputId": "d79fb88c-f1c7-4736-e5e0-e468137cbd3b"
      },
      "outputs": [
        {
          "output_type": "execute_result",
          "data": {
            "text/plain": [
              "       hour  year    demand  month  quarter  dayOfWeek  Covid  detrended_old  \\\n",
              "9797      0  2020  1.662758      1        1          2    0.0       1.647784   \n",
              "9798      1  2020  1.612784      1        1          2    0.0       1.643550   \n",
              "9799      3  2020  1.505150      1        1          2    0.0       1.588430   \n",
              "9800      5  2020  1.982271      1        1          2    0.0       1.617080   \n",
              "9801      6  2020  1.954243      1        1          2    0.0       1.561328   \n",
              "...     ...   ...       ...    ...      ...        ...    ...            ...   \n",
              "16937    19  2020  2.103804     12        4          3    0.0       1.831241   \n",
              "16938    20  2020  1.623249     12        4          3    0.0       1.678139   \n",
              "16939    21  2020  2.017033     12        4          3    0.0       1.737046   \n",
              "16940    22  2020  1.380211     12        4          3    0.0       1.798510   \n",
              "16941    23  2020  1.897627     12        4          3    0.0       1.723105   \n",
              "\n",
              "       detrended_oldweeks  detrended_sameHour  \n",
              "9797             1.659579            1.669468  \n",
              "9798             1.586884            1.639862  \n",
              "9799             1.678256            1.641492  \n",
              "9800             1.620319            1.556947  \n",
              "9801             1.561976            1.582584  \n",
              "...                   ...                 ...  \n",
              "16937            1.844315            1.831435  \n",
              "16938            1.717967            1.776227  \n",
              "16939            1.730252            1.756679  \n",
              "16940            1.750544            1.712261  \n",
              "16941            1.727125            1.689655  \n",
              "\n",
              "[7145 rows x 10 columns]"
            ],
            "text/html": [
              "\n",
              "  <div id=\"df-5e548128-fef3-4690-ac1a-395d75f32bff\">\n",
              "    <div class=\"colab-df-container\">\n",
              "      <div>\n",
              "<style scoped>\n",
              "    .dataframe tbody tr th:only-of-type {\n",
              "        vertical-align: middle;\n",
              "    }\n",
              "\n",
              "    .dataframe tbody tr th {\n",
              "        vertical-align: top;\n",
              "    }\n",
              "\n",
              "    .dataframe thead th {\n",
              "        text-align: right;\n",
              "    }\n",
              "</style>\n",
              "<table border=\"1\" class=\"dataframe\">\n",
              "  <thead>\n",
              "    <tr style=\"text-align: right;\">\n",
              "      <th></th>\n",
              "      <th>hour</th>\n",
              "      <th>year</th>\n",
              "      <th>demand</th>\n",
              "      <th>month</th>\n",
              "      <th>quarter</th>\n",
              "      <th>dayOfWeek</th>\n",
              "      <th>Covid</th>\n",
              "      <th>detrended_old</th>\n",
              "      <th>detrended_oldweeks</th>\n",
              "      <th>detrended_sameHour</th>\n",
              "    </tr>\n",
              "  </thead>\n",
              "  <tbody>\n",
              "    <tr>\n",
              "      <th>9797</th>\n",
              "      <td>0</td>\n",
              "      <td>2020</td>\n",
              "      <td>1.662758</td>\n",
              "      <td>1</td>\n",
              "      <td>1</td>\n",
              "      <td>2</td>\n",
              "      <td>0.0</td>\n",
              "      <td>1.647784</td>\n",
              "      <td>1.659579</td>\n",
              "      <td>1.669468</td>\n",
              "    </tr>\n",
              "    <tr>\n",
              "      <th>9798</th>\n",
              "      <td>1</td>\n",
              "      <td>2020</td>\n",
              "      <td>1.612784</td>\n",
              "      <td>1</td>\n",
              "      <td>1</td>\n",
              "      <td>2</td>\n",
              "      <td>0.0</td>\n",
              "      <td>1.643550</td>\n",
              "      <td>1.586884</td>\n",
              "      <td>1.639862</td>\n",
              "    </tr>\n",
              "    <tr>\n",
              "      <th>9799</th>\n",
              "      <td>3</td>\n",
              "      <td>2020</td>\n",
              "      <td>1.505150</td>\n",
              "      <td>1</td>\n",
              "      <td>1</td>\n",
              "      <td>2</td>\n",
              "      <td>0.0</td>\n",
              "      <td>1.588430</td>\n",
              "      <td>1.678256</td>\n",
              "      <td>1.641492</td>\n",
              "    </tr>\n",
              "    <tr>\n",
              "      <th>9800</th>\n",
              "      <td>5</td>\n",
              "      <td>2020</td>\n",
              "      <td>1.982271</td>\n",
              "      <td>1</td>\n",
              "      <td>1</td>\n",
              "      <td>2</td>\n",
              "      <td>0.0</td>\n",
              "      <td>1.617080</td>\n",
              "      <td>1.620319</td>\n",
              "      <td>1.556947</td>\n",
              "    </tr>\n",
              "    <tr>\n",
              "      <th>9801</th>\n",
              "      <td>6</td>\n",
              "      <td>2020</td>\n",
              "      <td>1.954243</td>\n",
              "      <td>1</td>\n",
              "      <td>1</td>\n",
              "      <td>2</td>\n",
              "      <td>0.0</td>\n",
              "      <td>1.561328</td>\n",
              "      <td>1.561976</td>\n",
              "      <td>1.582584</td>\n",
              "    </tr>\n",
              "    <tr>\n",
              "      <th>...</th>\n",
              "      <td>...</td>\n",
              "      <td>...</td>\n",
              "      <td>...</td>\n",
              "      <td>...</td>\n",
              "      <td>...</td>\n",
              "      <td>...</td>\n",
              "      <td>...</td>\n",
              "      <td>...</td>\n",
              "      <td>...</td>\n",
              "      <td>...</td>\n",
              "    </tr>\n",
              "    <tr>\n",
              "      <th>16937</th>\n",
              "      <td>19</td>\n",
              "      <td>2020</td>\n",
              "      <td>2.103804</td>\n",
              "      <td>12</td>\n",
              "      <td>4</td>\n",
              "      <td>3</td>\n",
              "      <td>0.0</td>\n",
              "      <td>1.831241</td>\n",
              "      <td>1.844315</td>\n",
              "      <td>1.831435</td>\n",
              "    </tr>\n",
              "    <tr>\n",
              "      <th>16938</th>\n",
              "      <td>20</td>\n",
              "      <td>2020</td>\n",
              "      <td>1.623249</td>\n",
              "      <td>12</td>\n",
              "      <td>4</td>\n",
              "      <td>3</td>\n",
              "      <td>0.0</td>\n",
              "      <td>1.678139</td>\n",
              "      <td>1.717967</td>\n",
              "      <td>1.776227</td>\n",
              "    </tr>\n",
              "    <tr>\n",
              "      <th>16939</th>\n",
              "      <td>21</td>\n",
              "      <td>2020</td>\n",
              "      <td>2.017033</td>\n",
              "      <td>12</td>\n",
              "      <td>4</td>\n",
              "      <td>3</td>\n",
              "      <td>0.0</td>\n",
              "      <td>1.737046</td>\n",
              "      <td>1.730252</td>\n",
              "      <td>1.756679</td>\n",
              "    </tr>\n",
              "    <tr>\n",
              "      <th>16940</th>\n",
              "      <td>22</td>\n",
              "      <td>2020</td>\n",
              "      <td>1.380211</td>\n",
              "      <td>12</td>\n",
              "      <td>4</td>\n",
              "      <td>3</td>\n",
              "      <td>0.0</td>\n",
              "      <td>1.798510</td>\n",
              "      <td>1.750544</td>\n",
              "      <td>1.712261</td>\n",
              "    </tr>\n",
              "    <tr>\n",
              "      <th>16941</th>\n",
              "      <td>23</td>\n",
              "      <td>2020</td>\n",
              "      <td>1.897627</td>\n",
              "      <td>12</td>\n",
              "      <td>4</td>\n",
              "      <td>3</td>\n",
              "      <td>0.0</td>\n",
              "      <td>1.723105</td>\n",
              "      <td>1.727125</td>\n",
              "      <td>1.689655</td>\n",
              "    </tr>\n",
              "  </tbody>\n",
              "</table>\n",
              "<p>7145 rows × 10 columns</p>\n",
              "</div>\n",
              "      <button class=\"colab-df-convert\" onclick=\"convertToInteractive('df-5e548128-fef3-4690-ac1a-395d75f32bff')\"\n",
              "              title=\"Convert this dataframe to an interactive table.\"\n",
              "              style=\"display:none;\">\n",
              "        \n",
              "  <svg xmlns=\"http://www.w3.org/2000/svg\" height=\"24px\"viewBox=\"0 0 24 24\"\n",
              "       width=\"24px\">\n",
              "    <path d=\"M0 0h24v24H0V0z\" fill=\"none\"/>\n",
              "    <path d=\"M18.56 5.44l.94 2.06.94-2.06 2.06-.94-2.06-.94-.94-2.06-.94 2.06-2.06.94zm-11 1L8.5 8.5l.94-2.06 2.06-.94-2.06-.94L8.5 2.5l-.94 2.06-2.06.94zm10 10l.94 2.06.94-2.06 2.06-.94-2.06-.94-.94-2.06-.94 2.06-2.06.94z\"/><path d=\"M17.41 7.96l-1.37-1.37c-.4-.4-.92-.59-1.43-.59-.52 0-1.04.2-1.43.59L10.3 9.45l-7.72 7.72c-.78.78-.78 2.05 0 2.83L4 21.41c.39.39.9.59 1.41.59.51 0 1.02-.2 1.41-.59l7.78-7.78 2.81-2.81c.8-.78.8-2.07 0-2.86zM5.41 20L4 18.59l7.72-7.72 1.47 1.35L5.41 20z\"/>\n",
              "  </svg>\n",
              "      </button>\n",
              "      \n",
              "  <style>\n",
              "    .colab-df-container {\n",
              "      display:flex;\n",
              "      flex-wrap:wrap;\n",
              "      gap: 12px;\n",
              "    }\n",
              "\n",
              "    .colab-df-convert {\n",
              "      background-color: #E8F0FE;\n",
              "      border: none;\n",
              "      border-radius: 50%;\n",
              "      cursor: pointer;\n",
              "      display: none;\n",
              "      fill: #1967D2;\n",
              "      height: 32px;\n",
              "      padding: 0 0 0 0;\n",
              "      width: 32px;\n",
              "    }\n",
              "\n",
              "    .colab-df-convert:hover {\n",
              "      background-color: #E2EBFA;\n",
              "      box-shadow: 0px 1px 2px rgba(60, 64, 67, 0.3), 0px 1px 3px 1px rgba(60, 64, 67, 0.15);\n",
              "      fill: #174EA6;\n",
              "    }\n",
              "\n",
              "    [theme=dark] .colab-df-convert {\n",
              "      background-color: #3B4455;\n",
              "      fill: #D2E3FC;\n",
              "    }\n",
              "\n",
              "    [theme=dark] .colab-df-convert:hover {\n",
              "      background-color: #434B5C;\n",
              "      box-shadow: 0px 1px 3px 1px rgba(0, 0, 0, 0.15);\n",
              "      filter: drop-shadow(0px 1px 2px rgba(0, 0, 0, 0.3));\n",
              "      fill: #FFFFFF;\n",
              "    }\n",
              "  </style>\n",
              "\n",
              "      <script>\n",
              "        const buttonEl =\n",
              "          document.querySelector('#df-5e548128-fef3-4690-ac1a-395d75f32bff button.colab-df-convert');\n",
              "        buttonEl.style.display =\n",
              "          google.colab.kernel.accessAllowed ? 'block' : 'none';\n",
              "\n",
              "        async function convertToInteractive(key) {\n",
              "          const element = document.querySelector('#df-5e548128-fef3-4690-ac1a-395d75f32bff');\n",
              "          const dataTable =\n",
              "            await google.colab.kernel.invokeFunction('convertToInteractive',\n",
              "                                                     [key], {});\n",
              "          if (!dataTable) return;\n",
              "\n",
              "          const docLinkHtml = 'Like what you see? Visit the ' +\n",
              "            '<a target=\"_blank\" href=https://colab.research.google.com/notebooks/data_table.ipynb>data table notebook</a>'\n",
              "            + ' to learn more about interactive tables.';\n",
              "          element.innerHTML = '';\n",
              "          dataTable['output_type'] = 'display_data';\n",
              "          await google.colab.output.renderOutput(dataTable, element);\n",
              "          const docLink = document.createElement('div');\n",
              "          docLink.innerHTML = docLinkHtml;\n",
              "          element.appendChild(docLink);\n",
              "        }\n",
              "      </script>\n",
              "    </div>\n",
              "  </div>\n",
              "  "
            ]
          },
          "metadata": {},
          "execution_count": 73
        }
      ],
      "source": [
        "\n",
        "train['detrended'] = signal.detrend(train['demand_log'].values)\n",
        "train['train']=1\n",
        "test['train']=0\n",
        "df_test=pd.concat([train,test])\n",
        "tt=sqldf(\"select date,hour,year,demand_log demand,month,quarter,dayOfWeek,Covid,coalesce((select avg(demand_log) from train B where B.hour=A.hour and B.dayOfWeek=A.dayOfWeek  and B.year<A.year),0) as detrended_old \" \\\n",
        "         +\",coalesce((select avg(demand_log) from train B where B.hour=A.hour and B.dayOfWeek=A.dayOfWeek),demand_log) as detrended_oldweeks,\" \\\n",
        "         +\"coalesce((select avg(demand_log) from train B where B.hour=A.hour),demand_log) as detrended_sameHour from df_test A where train=0\")\n",
        "tt\n",
        "df=sqldf(\"select hour,year,demand_log demand,month,quarter,dayOfWeek,Covid,coalesce((select avg(demand_log) from train B where B.hour=A.hour and B.dayOfWeek=A.dayOfWeek and B.year<A.year),detrended) as detrended_old\" \\\n",
        "         +\",coalesce((select avg(demand_log) from train B where B.hour=A.hour and B.dayOfWeek=A.dayOfWeek),demand_log) as detrended_oldweeks,\" \\\n",
        "         +\"coalesce((select avg(demand_log) from train B where B.hour=A.hour),demand_log) as detrended_sameHour from train A\")\n",
        "df[(df.year==2020)]"
      ]
    },
    {
      "cell_type": "code",
      "execution_count": 74,
      "metadata": {
        "colab": {
          "base_uri": "https://localhost:8080/",
          "height": 661
        },
        "id": "KgDAGdpN1Qwd",
        "outputId": "7d50e56a-4e4d-40c7-f2fc-e30408992469"
      },
      "outputs": [
        {
          "output_type": "execute_result",
          "data": {
            "text/plain": [
              "            date  hour  year demand  month  quarter  dayOfWeek  Covid  \\\n",
              "0     2021-03-01     0  2021   None      3        1          0    0.0   \n",
              "1     2021-03-01     1  2021   None      3        1          0    0.0   \n",
              "2     2021-03-01     2  2021   None      3        1          0    0.0   \n",
              "3     2021-03-01     3  2021   None      3        1          0    0.0   \n",
              "4     2021-03-01     5  2021   None      3        1          0    0.0   \n",
              "...          ...   ...   ...    ...    ...      ...        ...    ...   \n",
              "7645  2022-03-28    19  2022   None      3        1          0    0.0   \n",
              "7646  2022-03-28    20  2022   None      3        1          0    0.0   \n",
              "7647  2022-03-28    21  2022   None      3        1          0    0.0   \n",
              "7648  2022-03-28    22  2022   None      3        1          0    0.0   \n",
              "7649  2022-03-28    23  2022   None      3        1          0    0.0   \n",
              "\n",
              "      detrended_old  detrended_oldweeks  detrended_sameHour  \n",
              "0          1.701027            1.708483            1.669468  \n",
              "1          1.652190            1.640098            1.639862  \n",
              "2          1.594892            1.601220            1.655107  \n",
              "3          1.597888            1.605737            1.641492  \n",
              "4          1.535253            1.526744            1.556947  \n",
              "...             ...                 ...                 ...  \n",
              "7645       1.819938            1.819938            1.831435  \n",
              "7646       1.760531            1.760531            1.776227  \n",
              "7647       1.726767            1.726767            1.756679  \n",
              "7648       1.640789            1.640789            1.712261  \n",
              "7649       1.634035            1.634035            1.689655  \n",
              "\n",
              "[7650 rows x 11 columns]"
            ],
            "text/html": [
              "\n",
              "  <div id=\"df-a9cedb34-c9a1-425e-b2c5-281e04c5259a\">\n",
              "    <div class=\"colab-df-container\">\n",
              "      <div>\n",
              "<style scoped>\n",
              "    .dataframe tbody tr th:only-of-type {\n",
              "        vertical-align: middle;\n",
              "    }\n",
              "\n",
              "    .dataframe tbody tr th {\n",
              "        vertical-align: top;\n",
              "    }\n",
              "\n",
              "    .dataframe thead th {\n",
              "        text-align: right;\n",
              "    }\n",
              "</style>\n",
              "<table border=\"1\" class=\"dataframe\">\n",
              "  <thead>\n",
              "    <tr style=\"text-align: right;\">\n",
              "      <th></th>\n",
              "      <th>date</th>\n",
              "      <th>hour</th>\n",
              "      <th>year</th>\n",
              "      <th>demand</th>\n",
              "      <th>month</th>\n",
              "      <th>quarter</th>\n",
              "      <th>dayOfWeek</th>\n",
              "      <th>Covid</th>\n",
              "      <th>detrended_old</th>\n",
              "      <th>detrended_oldweeks</th>\n",
              "      <th>detrended_sameHour</th>\n",
              "    </tr>\n",
              "  </thead>\n",
              "  <tbody>\n",
              "    <tr>\n",
              "      <th>0</th>\n",
              "      <td>2021-03-01</td>\n",
              "      <td>0</td>\n",
              "      <td>2021</td>\n",
              "      <td>None</td>\n",
              "      <td>3</td>\n",
              "      <td>1</td>\n",
              "      <td>0</td>\n",
              "      <td>0.0</td>\n",
              "      <td>1.701027</td>\n",
              "      <td>1.708483</td>\n",
              "      <td>1.669468</td>\n",
              "    </tr>\n",
              "    <tr>\n",
              "      <th>1</th>\n",
              "      <td>2021-03-01</td>\n",
              "      <td>1</td>\n",
              "      <td>2021</td>\n",
              "      <td>None</td>\n",
              "      <td>3</td>\n",
              "      <td>1</td>\n",
              "      <td>0</td>\n",
              "      <td>0.0</td>\n",
              "      <td>1.652190</td>\n",
              "      <td>1.640098</td>\n",
              "      <td>1.639862</td>\n",
              "    </tr>\n",
              "    <tr>\n",
              "      <th>2</th>\n",
              "      <td>2021-03-01</td>\n",
              "      <td>2</td>\n",
              "      <td>2021</td>\n",
              "      <td>None</td>\n",
              "      <td>3</td>\n",
              "      <td>1</td>\n",
              "      <td>0</td>\n",
              "      <td>0.0</td>\n",
              "      <td>1.594892</td>\n",
              "      <td>1.601220</td>\n",
              "      <td>1.655107</td>\n",
              "    </tr>\n",
              "    <tr>\n",
              "      <th>3</th>\n",
              "      <td>2021-03-01</td>\n",
              "      <td>3</td>\n",
              "      <td>2021</td>\n",
              "      <td>None</td>\n",
              "      <td>3</td>\n",
              "      <td>1</td>\n",
              "      <td>0</td>\n",
              "      <td>0.0</td>\n",
              "      <td>1.597888</td>\n",
              "      <td>1.605737</td>\n",
              "      <td>1.641492</td>\n",
              "    </tr>\n",
              "    <tr>\n",
              "      <th>4</th>\n",
              "      <td>2021-03-01</td>\n",
              "      <td>5</td>\n",
              "      <td>2021</td>\n",
              "      <td>None</td>\n",
              "      <td>3</td>\n",
              "      <td>1</td>\n",
              "      <td>0</td>\n",
              "      <td>0.0</td>\n",
              "      <td>1.535253</td>\n",
              "      <td>1.526744</td>\n",
              "      <td>1.556947</td>\n",
              "    </tr>\n",
              "    <tr>\n",
              "      <th>...</th>\n",
              "      <td>...</td>\n",
              "      <td>...</td>\n",
              "      <td>...</td>\n",
              "      <td>...</td>\n",
              "      <td>...</td>\n",
              "      <td>...</td>\n",
              "      <td>...</td>\n",
              "      <td>...</td>\n",
              "      <td>...</td>\n",
              "      <td>...</td>\n",
              "      <td>...</td>\n",
              "    </tr>\n",
              "    <tr>\n",
              "      <th>7645</th>\n",
              "      <td>2022-03-28</td>\n",
              "      <td>19</td>\n",
              "      <td>2022</td>\n",
              "      <td>None</td>\n",
              "      <td>3</td>\n",
              "      <td>1</td>\n",
              "      <td>0</td>\n",
              "      <td>0.0</td>\n",
              "      <td>1.819938</td>\n",
              "      <td>1.819938</td>\n",
              "      <td>1.831435</td>\n",
              "    </tr>\n",
              "    <tr>\n",
              "      <th>7646</th>\n",
              "      <td>2022-03-28</td>\n",
              "      <td>20</td>\n",
              "      <td>2022</td>\n",
              "      <td>None</td>\n",
              "      <td>3</td>\n",
              "      <td>1</td>\n",
              "      <td>0</td>\n",
              "      <td>0.0</td>\n",
              "      <td>1.760531</td>\n",
              "      <td>1.760531</td>\n",
              "      <td>1.776227</td>\n",
              "    </tr>\n",
              "    <tr>\n",
              "      <th>7647</th>\n",
              "      <td>2022-03-28</td>\n",
              "      <td>21</td>\n",
              "      <td>2022</td>\n",
              "      <td>None</td>\n",
              "      <td>3</td>\n",
              "      <td>1</td>\n",
              "      <td>0</td>\n",
              "      <td>0.0</td>\n",
              "      <td>1.726767</td>\n",
              "      <td>1.726767</td>\n",
              "      <td>1.756679</td>\n",
              "    </tr>\n",
              "    <tr>\n",
              "      <th>7648</th>\n",
              "      <td>2022-03-28</td>\n",
              "      <td>22</td>\n",
              "      <td>2022</td>\n",
              "      <td>None</td>\n",
              "      <td>3</td>\n",
              "      <td>1</td>\n",
              "      <td>0</td>\n",
              "      <td>0.0</td>\n",
              "      <td>1.640789</td>\n",
              "      <td>1.640789</td>\n",
              "      <td>1.712261</td>\n",
              "    </tr>\n",
              "    <tr>\n",
              "      <th>7649</th>\n",
              "      <td>2022-03-28</td>\n",
              "      <td>23</td>\n",
              "      <td>2022</td>\n",
              "      <td>None</td>\n",
              "      <td>3</td>\n",
              "      <td>1</td>\n",
              "      <td>0</td>\n",
              "      <td>0.0</td>\n",
              "      <td>1.634035</td>\n",
              "      <td>1.634035</td>\n",
              "      <td>1.689655</td>\n",
              "    </tr>\n",
              "  </tbody>\n",
              "</table>\n",
              "<p>7650 rows × 11 columns</p>\n",
              "</div>\n",
              "      <button class=\"colab-df-convert\" onclick=\"convertToInteractive('df-a9cedb34-c9a1-425e-b2c5-281e04c5259a')\"\n",
              "              title=\"Convert this dataframe to an interactive table.\"\n",
              "              style=\"display:none;\">\n",
              "        \n",
              "  <svg xmlns=\"http://www.w3.org/2000/svg\" height=\"24px\"viewBox=\"0 0 24 24\"\n",
              "       width=\"24px\">\n",
              "    <path d=\"M0 0h24v24H0V0z\" fill=\"none\"/>\n",
              "    <path d=\"M18.56 5.44l.94 2.06.94-2.06 2.06-.94-2.06-.94-.94-2.06-.94 2.06-2.06.94zm-11 1L8.5 8.5l.94-2.06 2.06-.94-2.06-.94L8.5 2.5l-.94 2.06-2.06.94zm10 10l.94 2.06.94-2.06 2.06-.94-2.06-.94-.94-2.06-.94 2.06-2.06.94z\"/><path d=\"M17.41 7.96l-1.37-1.37c-.4-.4-.92-.59-1.43-.59-.52 0-1.04.2-1.43.59L10.3 9.45l-7.72 7.72c-.78.78-.78 2.05 0 2.83L4 21.41c.39.39.9.59 1.41.59.51 0 1.02-.2 1.41-.59l7.78-7.78 2.81-2.81c.8-.78.8-2.07 0-2.86zM5.41 20L4 18.59l7.72-7.72 1.47 1.35L5.41 20z\"/>\n",
              "  </svg>\n",
              "      </button>\n",
              "      \n",
              "  <style>\n",
              "    .colab-df-container {\n",
              "      display:flex;\n",
              "      flex-wrap:wrap;\n",
              "      gap: 12px;\n",
              "    }\n",
              "\n",
              "    .colab-df-convert {\n",
              "      background-color: #E8F0FE;\n",
              "      border: none;\n",
              "      border-radius: 50%;\n",
              "      cursor: pointer;\n",
              "      display: none;\n",
              "      fill: #1967D2;\n",
              "      height: 32px;\n",
              "      padding: 0 0 0 0;\n",
              "      width: 32px;\n",
              "    }\n",
              "\n",
              "    .colab-df-convert:hover {\n",
              "      background-color: #E2EBFA;\n",
              "      box-shadow: 0px 1px 2px rgba(60, 64, 67, 0.3), 0px 1px 3px 1px rgba(60, 64, 67, 0.15);\n",
              "      fill: #174EA6;\n",
              "    }\n",
              "\n",
              "    [theme=dark] .colab-df-convert {\n",
              "      background-color: #3B4455;\n",
              "      fill: #D2E3FC;\n",
              "    }\n",
              "\n",
              "    [theme=dark] .colab-df-convert:hover {\n",
              "      background-color: #434B5C;\n",
              "      box-shadow: 0px 1px 3px 1px rgba(0, 0, 0, 0.15);\n",
              "      filter: drop-shadow(0px 1px 2px rgba(0, 0, 0, 0.3));\n",
              "      fill: #FFFFFF;\n",
              "    }\n",
              "  </style>\n",
              "\n",
              "      <script>\n",
              "        const buttonEl =\n",
              "          document.querySelector('#df-a9cedb34-c9a1-425e-b2c5-281e04c5259a button.colab-df-convert');\n",
              "        buttonEl.style.display =\n",
              "          google.colab.kernel.accessAllowed ? 'block' : 'none';\n",
              "\n",
              "        async function convertToInteractive(key) {\n",
              "          const element = document.querySelector('#df-a9cedb34-c9a1-425e-b2c5-281e04c5259a');\n",
              "          const dataTable =\n",
              "            await google.colab.kernel.invokeFunction('convertToInteractive',\n",
              "                                                     [key], {});\n",
              "          if (!dataTable) return;\n",
              "\n",
              "          const docLinkHtml = 'Like what you see? Visit the ' +\n",
              "            '<a target=\"_blank\" href=https://colab.research.google.com/notebooks/data_table.ipynb>data table notebook</a>'\n",
              "            + ' to learn more about interactive tables.';\n",
              "          element.innerHTML = '';\n",
              "          dataTable['output_type'] = 'display_data';\n",
              "          await google.colab.output.renderOutput(dataTable, element);\n",
              "          const docLink = document.createElement('div');\n",
              "          docLink.innerHTML = docLinkHtml;\n",
              "          element.appendChild(docLink);\n",
              "        }\n",
              "      </script>\n",
              "    </div>\n",
              "  </div>\n",
              "  "
            ]
          },
          "metadata": {},
          "execution_count": 74
        }
      ],
      "source": [
        "tt"
      ]
    },
    {
      "cell_type": "code",
      "execution_count": 80,
      "metadata": {
        "id": "iCouX17f3Rx-"
      },
      "outputs": [],
      "source": [
        "#'hour','dayOfWeek','detrended_old','detrended_oldweeks','detrended_sameHour'\n",
        "scaler = MinMaxScaler()\n",
        "X=train.dropna()\n",
        "X_train = scaler.fit_transform(df[['hour','dayOfWeek']])\n",
        "X_test = scaler.transform(tt[['hour','dayOfWeek']])\n",
        "y=df.demand\n",
        "# y_test=tt.demand\n",
        "# X_test = scaler.transform(X_test)\n",
        "train_x, valid_x, train_y, valid_y = train_test_split(X_train, y, test_size=0.05)\n",
        "dtrain = lgb.Dataset(train_x, label=train_y)\n",
        "dvalid = lgb.Dataset(valid_x, label=valid_y)"
      ]
    },
    {
      "cell_type": "code",
      "execution_count": 95,
      "metadata": {
        "id": "J9b04rjrEdYL"
      },
      "outputs": [],
      "source": [
        "\n",
        "# from sklearn.multioutput import MultiOutputRegressor\n",
        "class Objective():\n",
        "\n",
        "    def __init__(self):\n",
        "        self.best_booster = None\n",
        "        self._booster = None\n",
        "\n",
        "    def __call__(self, trial):\n",
        "        param = {\n",
        "            \"objective\": \"regression\",\n",
        "            \"metric\": \"mse\",\n",
        "            \"verbosity\": -1,\n",
        "            \"boosting_type\": \"gbdt\",\n",
        "            \"bagging_fraction\": trial.suggest_loguniform(\"bagging_fraction\", 0.9, 1.0),\n",
        "            \"feature_fraction\": trial.suggest_loguniform(\"feature_fraction\", 0.8, 1.0),\n",
        "            \"min_gain_to_split\": trial.suggest_loguniform(\"min_gain_to_split\", 0.3, 1.0),\n",
        "            \"max_depth\": trial.suggest_int(\"max_depth\", 5, 20),\n",
        "            \"lambda_l1\": trial.suggest_loguniform(\"lambda_l1\", 1e-8, 10.0),\n",
        "            \"lambda_l2\": trial.suggest_loguniform(\"lambda_l2\", 1e-8, 10.0),\n",
        "            \"num_leaves\": trial.suggest_int(\"num_leaves\", 10, 50),\n",
        "            \"num_iterations\": trial.suggest_int(\"num_iterations\", 20, 400),\n",
        "            \"learning_rate\":trial.suggest_loguniform(\"learning_rate\", 0.01, 0.1),\n",
        "            \"n_estimators\": trial.suggest_int(\"n_estimators\", 50, 1000),\n",
        "            \"max_bin\":trial.suggest_int(\"max_bin\", 500, 2000),\n",
        "             \"categorical_feature\": \"auto\"\n",
        "        }\n",
        "        # Add a callback for pruning.\n",
        "        # train_data = lgb.Dataset(X_train_minmax, label=y, free_raw_data=False)\n",
        "        pruning_callback = optuna.integration.LightGBMPruningCallback(trial, \"mse\")\n",
        "        model= lgb.LGBMRegressor()\n",
        "        gbm = model.fit(train_x,train_y)\n",
        "\n",
        "        self._booster = gbm\n",
        "\n",
        "        preds = gbm.predict(train_x)\n",
        "        pred_labels = np.rint(preds)\n",
        "        accuracy = mean_absolute_error(train_y, pred_labels)\n",
        "        return accuracy\n"
      ]
    },
    {
      "cell_type": "code",
      "execution_count": 96,
      "metadata": {
        "colab": {
          "base_uri": "https://localhost:8080/"
        },
        "id": "rTg5n7IkFGyu",
        "outputId": "1c713cd1-35da-4053-cf3d-7c8524e254e1"
      },
      "outputs": [
        {
          "output_type": "stream",
          "name": "stdout",
          "text": [
            "Best trial:\n",
            "  Params: \n",
            "    bagging_fraction: 0.9032958834878667\n",
            "    feature_fraction: 0.8163430134708293\n",
            "    min_gain_to_split: 0.4191245556815868\n",
            "    max_depth: 20\n",
            "    lambda_l1: 0.9917078940937806\n",
            "    lambda_l2: 0.004914875988712837\n",
            "    num_leaves: 50\n",
            "    num_iterations: 118\n",
            "    learning_rate: 0.04151908496504281\n",
            "    n_estimators: 891\n",
            "    max_bin: 1991\n"
          ]
        }
      ],
      "source": [
        "objective = Objective()\n",
        "\n",
        "simplefilter(\"ignore\", category=RuntimeWarning)\n",
        "optuna.logging.set_verbosity(optuna.logging.ERROR)\n",
        "study = optuna.create_study(\n",
        "    pruner=optuna.pruners.MedianPruner(n_warmup_steps=10), direction=\"minimize\"\n",
        ")\n",
        "study.optimize(objective, n_trials=50)\n",
        "\n",
        "print(\"Best trial:\")\n",
        "trial_co = study.best_trial\n",
        "\n",
        "print(\"  Params: \")\n",
        "for key, value in trial_co.params.items():\n",
        "    print(\"    {}: {}\".format(key, value))\n",
        "\n",
        "best_model_co = objective.best_booster"
      ]
    },
    {
      "cell_type": "code",
      "execution_count": 97,
      "metadata": {
        "colab": {
          "base_uri": "https://localhost:8080/",
          "height": 167
        },
        "id": "RffouUp2DSAR",
        "outputId": "cd1e9edf-7da7-4aed-cca1-ec5e6994780f"
      },
      "outputs": [
        {
          "output_type": "stream",
          "name": "stderr",
          "text": [
            "/usr/local/lib/python3.7/dist-packages/lightgbm/engine.py:118: UserWarning: Found `num_iterations` in params. Will use it instead of argument\n",
            "  warnings.warn(\"Found `{}` in params. Will use it instead of argument\".format(alias))\n"
          ]
        },
        {
          "output_type": "execute_result",
          "data": {
            "text/plain": [
              "   Value    Feature\n",
              "0    322       hour\n",
              "1     87  dayOfWeek"
            ],
            "text/html": [
              "\n",
              "  <div id=\"df-81aad738-e585-4c6b-81d2-179d2b253444\">\n",
              "    <div class=\"colab-df-container\">\n",
              "      <div>\n",
              "<style scoped>\n",
              "    .dataframe tbody tr th:only-of-type {\n",
              "        vertical-align: middle;\n",
              "    }\n",
              "\n",
              "    .dataframe tbody tr th {\n",
              "        vertical-align: top;\n",
              "    }\n",
              "\n",
              "    .dataframe thead th {\n",
              "        text-align: right;\n",
              "    }\n",
              "</style>\n",
              "<table border=\"1\" class=\"dataframe\">\n",
              "  <thead>\n",
              "    <tr style=\"text-align: right;\">\n",
              "      <th></th>\n",
              "      <th>Value</th>\n",
              "      <th>Feature</th>\n",
              "    </tr>\n",
              "  </thead>\n",
              "  <tbody>\n",
              "    <tr>\n",
              "      <th>0</th>\n",
              "      <td>322</td>\n",
              "      <td>hour</td>\n",
              "    </tr>\n",
              "    <tr>\n",
              "      <th>1</th>\n",
              "      <td>87</td>\n",
              "      <td>dayOfWeek</td>\n",
              "    </tr>\n",
              "  </tbody>\n",
              "</table>\n",
              "</div>\n",
              "      <button class=\"colab-df-convert\" onclick=\"convertToInteractive('df-81aad738-e585-4c6b-81d2-179d2b253444')\"\n",
              "              title=\"Convert this dataframe to an interactive table.\"\n",
              "              style=\"display:none;\">\n",
              "        \n",
              "  <svg xmlns=\"http://www.w3.org/2000/svg\" height=\"24px\"viewBox=\"0 0 24 24\"\n",
              "       width=\"24px\">\n",
              "    <path d=\"M0 0h24v24H0V0z\" fill=\"none\"/>\n",
              "    <path d=\"M18.56 5.44l.94 2.06.94-2.06 2.06-.94-2.06-.94-.94-2.06-.94 2.06-2.06.94zm-11 1L8.5 8.5l.94-2.06 2.06-.94-2.06-.94L8.5 2.5l-.94 2.06-2.06.94zm10 10l.94 2.06.94-2.06 2.06-.94-2.06-.94-.94-2.06-.94 2.06-2.06.94z\"/><path d=\"M17.41 7.96l-1.37-1.37c-.4-.4-.92-.59-1.43-.59-.52 0-1.04.2-1.43.59L10.3 9.45l-7.72 7.72c-.78.78-.78 2.05 0 2.83L4 21.41c.39.39.9.59 1.41.59.51 0 1.02-.2 1.41-.59l7.78-7.78 2.81-2.81c.8-.78.8-2.07 0-2.86zM5.41 20L4 18.59l7.72-7.72 1.47 1.35L5.41 20z\"/>\n",
              "  </svg>\n",
              "      </button>\n",
              "      \n",
              "  <style>\n",
              "    .colab-df-container {\n",
              "      display:flex;\n",
              "      flex-wrap:wrap;\n",
              "      gap: 12px;\n",
              "    }\n",
              "\n",
              "    .colab-df-convert {\n",
              "      background-color: #E8F0FE;\n",
              "      border: none;\n",
              "      border-radius: 50%;\n",
              "      cursor: pointer;\n",
              "      display: none;\n",
              "      fill: #1967D2;\n",
              "      height: 32px;\n",
              "      padding: 0 0 0 0;\n",
              "      width: 32px;\n",
              "    }\n",
              "\n",
              "    .colab-df-convert:hover {\n",
              "      background-color: #E2EBFA;\n",
              "      box-shadow: 0px 1px 2px rgba(60, 64, 67, 0.3), 0px 1px 3px 1px rgba(60, 64, 67, 0.15);\n",
              "      fill: #174EA6;\n",
              "    }\n",
              "\n",
              "    [theme=dark] .colab-df-convert {\n",
              "      background-color: #3B4455;\n",
              "      fill: #D2E3FC;\n",
              "    }\n",
              "\n",
              "    [theme=dark] .colab-df-convert:hover {\n",
              "      background-color: #434B5C;\n",
              "      box-shadow: 0px 1px 3px 1px rgba(0, 0, 0, 0.15);\n",
              "      filter: drop-shadow(0px 1px 2px rgba(0, 0, 0, 0.3));\n",
              "      fill: #FFFFFF;\n",
              "    }\n",
              "  </style>\n",
              "\n",
              "      <script>\n",
              "        const buttonEl =\n",
              "          document.querySelector('#df-81aad738-e585-4c6b-81d2-179d2b253444 button.colab-df-convert');\n",
              "        buttonEl.style.display =\n",
              "          google.colab.kernel.accessAllowed ? 'block' : 'none';\n",
              "\n",
              "        async function convertToInteractive(key) {\n",
              "          const element = document.querySelector('#df-81aad738-e585-4c6b-81d2-179d2b253444');\n",
              "          const dataTable =\n",
              "            await google.colab.kernel.invokeFunction('convertToInteractive',\n",
              "                                                     [key], {});\n",
              "          if (!dataTable) return;\n",
              "\n",
              "          const docLinkHtml = 'Like what you see? Visit the ' +\n",
              "            '<a target=\"_blank\" href=https://colab.research.google.com/notebooks/data_table.ipynb>data table notebook</a>'\n",
              "            + ' to learn more about interactive tables.';\n",
              "          element.innerHTML = '';\n",
              "          dataTable['output_type'] = 'display_data';\n",
              "          await google.colab.output.renderOutput(dataTable, element);\n",
              "          const docLink = document.createElement('div');\n",
              "          docLink.innerHTML = docLinkHtml;\n",
              "          element.appendChild(docLink);\n",
              "        }\n",
              "      </script>\n",
              "    </div>\n",
              "  </div>\n",
              "  "
            ]
          },
          "metadata": {},
          "execution_count": 97
        }
      ],
      "source": [
        "params =  trial_co.params\n",
        "model= lgb.LGBMRegressor(**params)\n",
        "model_co = model.fit(train_x,train_y)\n",
        "pd.DataFrame({'Value':model.feature_importances_,'Feature':['hour','dayOfWeek']})\n"
      ]
    },
    {
      "cell_type": "code",
      "execution_count": 98,
      "metadata": {
        "colab": {
          "base_uri": "https://localhost:8080/"
        },
        "id": "Ek3KkgHWFS9T",
        "outputId": "0e4f9cc9-1939-4938-a03b-2ad4bef10fa9"
      },
      "outputs": [
        {
          "output_type": "execute_result",
          "data": {
            "text/plain": [
              "0.28647619856128137"
            ]
          },
          "metadata": {},
          "execution_count": 98
        }
      ],
      "source": [
        "y_pred=model_co.predict(train_x)\n",
        "sqrt(MSE(train_y, y_pred))"
      ]
    },
    {
      "cell_type": "code",
      "execution_count": 99,
      "metadata": {
        "colab": {
          "base_uri": "https://localhost:8080/"
        },
        "id": "quPEO6NGGU4o",
        "outputId": "30a3389e-42fb-48a2-8dbc-3e176b1de8b3"
      },
      "outputs": [
        {
          "output_type": "execute_result",
          "data": {
            "text/plain": [
              "0.2777590232979907"
            ]
          },
          "metadata": {},
          "execution_count": 99
        }
      ],
      "source": [
        "# model_co = model.fit(valid_x,valid_y)\n",
        "y_pred=model_co.predict(valid_x)\n",
        "sqrt(MSE(valid_y, y_pred))"
      ]
    },
    {
      "cell_type": "code",
      "execution_count": 86,
      "metadata": {
        "id": "Ikw-ykw6I37W"
      },
      "outputs": [],
      "source": [
        "# model_co = model.fit(X_test,y_test)\n",
        "y_pred=10**model_co.predict(X_test)\n",
        "# sqrt(MSE(y_test, y_pred))"
      ]
    },
    {
      "cell_type": "code",
      "execution_count": 87,
      "metadata": {
        "colab": {
          "base_uri": "https://localhost:8080/",
          "height": 423
        },
        "id": "RlSefsWxayBm",
        "outputId": "8cd4bcec-4e04-4438-b64b-e30ee164962c"
      },
      "outputs": [
        {
          "output_type": "execute_result",
          "data": {
            "text/plain": [
              "              0\n",
              "0     42.347830\n",
              "1     42.347830\n",
              "2     42.347830\n",
              "3     41.124581\n",
              "4     38.371548\n",
              "...         ...\n",
              "7645  63.095932\n",
              "7646  56.655323\n",
              "7647  54.135100\n",
              "7648  49.426293\n",
              "7649  49.108840\n",
              "\n",
              "[7650 rows x 1 columns]"
            ],
            "text/html": [
              "\n",
              "  <div id=\"df-8f583479-387b-485a-9e42-89b65737ab75\">\n",
              "    <div class=\"colab-df-container\">\n",
              "      <div>\n",
              "<style scoped>\n",
              "    .dataframe tbody tr th:only-of-type {\n",
              "        vertical-align: middle;\n",
              "    }\n",
              "\n",
              "    .dataframe tbody tr th {\n",
              "        vertical-align: top;\n",
              "    }\n",
              "\n",
              "    .dataframe thead th {\n",
              "        text-align: right;\n",
              "    }\n",
              "</style>\n",
              "<table border=\"1\" class=\"dataframe\">\n",
              "  <thead>\n",
              "    <tr style=\"text-align: right;\">\n",
              "      <th></th>\n",
              "      <th>0</th>\n",
              "    </tr>\n",
              "  </thead>\n",
              "  <tbody>\n",
              "    <tr>\n",
              "      <th>0</th>\n",
              "      <td>42.347830</td>\n",
              "    </tr>\n",
              "    <tr>\n",
              "      <th>1</th>\n",
              "      <td>42.347830</td>\n",
              "    </tr>\n",
              "    <tr>\n",
              "      <th>2</th>\n",
              "      <td>42.347830</td>\n",
              "    </tr>\n",
              "    <tr>\n",
              "      <th>3</th>\n",
              "      <td>41.124581</td>\n",
              "    </tr>\n",
              "    <tr>\n",
              "      <th>4</th>\n",
              "      <td>38.371548</td>\n",
              "    </tr>\n",
              "    <tr>\n",
              "      <th>...</th>\n",
              "      <td>...</td>\n",
              "    </tr>\n",
              "    <tr>\n",
              "      <th>7645</th>\n",
              "      <td>63.095932</td>\n",
              "    </tr>\n",
              "    <tr>\n",
              "      <th>7646</th>\n",
              "      <td>56.655323</td>\n",
              "    </tr>\n",
              "    <tr>\n",
              "      <th>7647</th>\n",
              "      <td>54.135100</td>\n",
              "    </tr>\n",
              "    <tr>\n",
              "      <th>7648</th>\n",
              "      <td>49.426293</td>\n",
              "    </tr>\n",
              "    <tr>\n",
              "      <th>7649</th>\n",
              "      <td>49.108840</td>\n",
              "    </tr>\n",
              "  </tbody>\n",
              "</table>\n",
              "<p>7650 rows × 1 columns</p>\n",
              "</div>\n",
              "      <button class=\"colab-df-convert\" onclick=\"convertToInteractive('df-8f583479-387b-485a-9e42-89b65737ab75')\"\n",
              "              title=\"Convert this dataframe to an interactive table.\"\n",
              "              style=\"display:none;\">\n",
              "        \n",
              "  <svg xmlns=\"http://www.w3.org/2000/svg\" height=\"24px\"viewBox=\"0 0 24 24\"\n",
              "       width=\"24px\">\n",
              "    <path d=\"M0 0h24v24H0V0z\" fill=\"none\"/>\n",
              "    <path d=\"M18.56 5.44l.94 2.06.94-2.06 2.06-.94-2.06-.94-.94-2.06-.94 2.06-2.06.94zm-11 1L8.5 8.5l.94-2.06 2.06-.94-2.06-.94L8.5 2.5l-.94 2.06-2.06.94zm10 10l.94 2.06.94-2.06 2.06-.94-2.06-.94-.94-2.06-.94 2.06-2.06.94z\"/><path d=\"M17.41 7.96l-1.37-1.37c-.4-.4-.92-.59-1.43-.59-.52 0-1.04.2-1.43.59L10.3 9.45l-7.72 7.72c-.78.78-.78 2.05 0 2.83L4 21.41c.39.39.9.59 1.41.59.51 0 1.02-.2 1.41-.59l7.78-7.78 2.81-2.81c.8-.78.8-2.07 0-2.86zM5.41 20L4 18.59l7.72-7.72 1.47 1.35L5.41 20z\"/>\n",
              "  </svg>\n",
              "      </button>\n",
              "      \n",
              "  <style>\n",
              "    .colab-df-container {\n",
              "      display:flex;\n",
              "      flex-wrap:wrap;\n",
              "      gap: 12px;\n",
              "    }\n",
              "\n",
              "    .colab-df-convert {\n",
              "      background-color: #E8F0FE;\n",
              "      border: none;\n",
              "      border-radius: 50%;\n",
              "      cursor: pointer;\n",
              "      display: none;\n",
              "      fill: #1967D2;\n",
              "      height: 32px;\n",
              "      padding: 0 0 0 0;\n",
              "      width: 32px;\n",
              "    }\n",
              "\n",
              "    .colab-df-convert:hover {\n",
              "      background-color: #E2EBFA;\n",
              "      box-shadow: 0px 1px 2px rgba(60, 64, 67, 0.3), 0px 1px 3px 1px rgba(60, 64, 67, 0.15);\n",
              "      fill: #174EA6;\n",
              "    }\n",
              "\n",
              "    [theme=dark] .colab-df-convert {\n",
              "      background-color: #3B4455;\n",
              "      fill: #D2E3FC;\n",
              "    }\n",
              "\n",
              "    [theme=dark] .colab-df-convert:hover {\n",
              "      background-color: #434B5C;\n",
              "      box-shadow: 0px 1px 3px 1px rgba(0, 0, 0, 0.15);\n",
              "      filter: drop-shadow(0px 1px 2px rgba(0, 0, 0, 0.3));\n",
              "      fill: #FFFFFF;\n",
              "    }\n",
              "  </style>\n",
              "\n",
              "      <script>\n",
              "        const buttonEl =\n",
              "          document.querySelector('#df-8f583479-387b-485a-9e42-89b65737ab75 button.colab-df-convert');\n",
              "        buttonEl.style.display =\n",
              "          google.colab.kernel.accessAllowed ? 'block' : 'none';\n",
              "\n",
              "        async function convertToInteractive(key) {\n",
              "          const element = document.querySelector('#df-8f583479-387b-485a-9e42-89b65737ab75');\n",
              "          const dataTable =\n",
              "            await google.colab.kernel.invokeFunction('convertToInteractive',\n",
              "                                                     [key], {});\n",
              "          if (!dataTable) return;\n",
              "\n",
              "          const docLinkHtml = 'Like what you see? Visit the ' +\n",
              "            '<a target=\"_blank\" href=https://colab.research.google.com/notebooks/data_table.ipynb>data table notebook</a>'\n",
              "            + ' to learn more about interactive tables.';\n",
              "          element.innerHTML = '';\n",
              "          dataTable['output_type'] = 'display_data';\n",
              "          await google.colab.output.renderOutput(dataTable, element);\n",
              "          const docLink = document.createElement('div');\n",
              "          docLink.innerHTML = docLinkHtml;\n",
              "          element.appendChild(docLink);\n",
              "        }\n",
              "      </script>\n",
              "    </div>\n",
              "  </div>\n",
              "  "
            ]
          },
          "metadata": {},
          "execution_count": 87
        }
      ],
      "source": [
        "pd.DataFrame(y_pred)"
      ]
    },
    {
      "cell_type": "code",
      "execution_count": 88,
      "metadata": {
        "id": "8Fa20skWZMDw"
      },
      "outputs": [],
      "source": [
        "submission=pd.concat([test[['date','hour']],pd.DataFrame(y_pred)],axis=1)\n",
        "submission.columns=['date','hour','demand']\n",
        "submission.to_csv(\"/content/submission.csv\", index = False)"
      ]
    },
    {
      "cell_type": "code",
      "source": [
        "from  sklearn.ensemble import RandomForestRegressor\n",
        "md=RandomForestRegressor(max_depth=50,n_estimators=25)\n",
        "md.fit(train_x,train_y)\n",
        "y_r=md.predict(train_x)\n",
        "sqrt(MSE(train_y, y_r))"
      ],
      "metadata": {
        "colab": {
          "base_uri": "https://localhost:8080/"
        },
        "id": "NHJVACTCuGcG",
        "outputId": "01bb3488-f765-405b-c3bd-5bad35f19cc0"
      },
      "execution_count": 89,
      "outputs": [
        {
          "output_type": "execute_result",
          "data": {
            "text/plain": [
              "0.2830859244302397"
            ]
          },
          "metadata": {},
          "execution_count": 89
        }
      ]
    },
    {
      "cell_type": "code",
      "source": [
        "\n",
        "y_r=md.predict(valid_x)\n",
        "sqrt(MSE(valid_y, y_r))"
      ],
      "metadata": {
        "colab": {
          "base_uri": "https://localhost:8080/"
        },
        "id": "N0-EDxr_u9oi",
        "outputId": "7bbe8c2d-5b36-4c63-d17e-66a442d03766"
      },
      "execution_count": 90,
      "outputs": [
        {
          "output_type": "execute_result",
          "data": {
            "text/plain": [
              "0.2764565956478131"
            ]
          },
          "metadata": {},
          "execution_count": 90
        }
      ]
    },
    {
      "cell_type": "code",
      "source": [
        "y_pred=md.predict(X_test)\n",
        "submission=pd.concat([test[['date','hour']],pd.DataFrame(y_pred)],axis=1)\n",
        "submission.columns=['date','hour','demand']\n",
        "submission.to_csv(\"/content/submission_RF.csv\", index = False)"
      ],
      "metadata": {
        "id": "7Q7TrF5Cw4US"
      },
      "execution_count": 91,
      "outputs": []
    },
    {
      "cell_type": "code",
      "source": [
        "from sklearn.linear_model import LinearRegression\n",
        "reg = LinearRegression().fit(train_x,train_y)\n",
        "y_r=reg.predict(train_x)\n",
        "sqrt(MSE(train_y, y_r))\n",
        "# y_r"
      ],
      "metadata": {
        "colab": {
          "base_uri": "https://localhost:8080/"
        },
        "id": "PgCl_4mgwObh",
        "outputId": "032f28c5-d845-4887-d7bd-438cb2a08373"
      },
      "execution_count": 92,
      "outputs": [
        {
          "output_type": "execute_result",
          "data": {
            "text/plain": [
              "0.30164668140663475"
            ]
          },
          "metadata": {},
          "execution_count": 92
        }
      ]
    },
    {
      "cell_type": "code",
      "source": [
        "y_r=reg.predict(valid_x)\n",
        "sqrt(MSE(valid_y, y_r))"
      ],
      "metadata": {
        "colab": {
          "base_uri": "https://localhost:8080/"
        },
        "id": "_zA1SrJTwt13",
        "outputId": "334b7fa0-592e-4540-be67-3bec17f3422c"
      },
      "execution_count": 93,
      "outputs": [
        {
          "output_type": "execute_result",
          "data": {
            "text/plain": [
              "0.2932011382422708"
            ]
          },
          "metadata": {},
          "execution_count": 93
        }
      ]
    },
    {
      "cell_type": "code",
      "source": [
        "y_pred=reg.predict(X_test)\n",
        "submission=pd.concat([test[['date','hour']],pd.DataFrame(y_pred)],axis=1)\n",
        "submission.columns=['date','hour','demand']\n",
        "submission.to_csv(\"/content/submission_reg.csv\", index = False)"
      ],
      "metadata": {
        "id": "rSNVa1YoxD1h"
      },
      "execution_count": 94,
      "outputs": []
    },
    {
      "cell_type": "code",
      "execution_count": null,
      "metadata": {
        "id": "obP8QUM5a5fm"
      },
      "outputs": [],
      "source": [
        ""
      ]
    },
    {
      "cell_type": "code",
      "source": [
        "from numpy import array\n",
        "from keras.models import Sequential\n",
        "from keras.layers import LSTM,RepeatVector\n",
        "from keras.layers import Dense"
      ],
      "metadata": {
        "id": "x02YquuOg8H6"
      },
      "execution_count": 115,
      "outputs": []
    },
    {
      "cell_type": "code",
      "source": [
        "# train_x.shape[1]\n",
        "# X = train_x.reshape((train_x.shape[0], train_x.shape[1], 6))\n",
        "model = Sequential()\n",
        "model.add(Dense(1024))\n",
        "model.add(RepeatVector(3))\n",
        "model.add(LSTM(256, activation='relu',return_sequences=True))\n",
        "model.add(LSTM(256, activation='relu'))\n",
        "model.add(Dense(1))\n",
        "model.compile(optimizer='adam', loss='mse')\n",
        "# fit model\n",
        "model.fit(train_x, train_y, epochs=200)"
      ],
      "metadata": {
        "colab": {
          "base_uri": "https://localhost:8080/"
        },
        "id": "PAkKtIlBg8bO",
        "outputId": "aa4caf3f-8f0a-45f2-f1b6-23da5eaa28d4"
      },
      "execution_count": null,
      "outputs": [
        {
          "output_type": "stream",
          "name": "stdout",
          "text": [
            "Epoch 1/200\n",
            "485/485 [==============================] - 36s 68ms/step - loss: 1360.5632\n",
            "Epoch 2/200\n",
            "485/485 [==============================] - 33s 68ms/step - loss: 1125.3099\n",
            "Epoch 3/200\n",
            "485/485 [==============================] - 33s 68ms/step - loss: 1084.6011\n",
            "Epoch 4/200\n",
            "485/485 [==============================] - 34s 69ms/step - loss: 1064.2393\n",
            "Epoch 5/200\n",
            "485/485 [==============================] - 34s 70ms/step - loss: 1066.8562\n",
            "Epoch 6/200\n",
            "485/485 [==============================] - 33s 69ms/step - loss: 1040.6423\n",
            "Epoch 7/200\n",
            "485/485 [==============================] - 33s 68ms/step - loss: 1024.6382\n",
            "Epoch 8/200\n",
            "485/485 [==============================] - 33s 68ms/step - loss: 1032.4869\n",
            "Epoch 9/200\n",
            "485/485 [==============================] - 33s 69ms/step - loss: 1008.6002\n",
            "Epoch 10/200\n",
            "485/485 [==============================] - 33s 68ms/step - loss: 1036.2838\n",
            "Epoch 11/200\n",
            "485/485 [==============================] - 34s 69ms/step - loss: 1010.0948\n",
            "Epoch 12/200\n",
            "485/485 [==============================] - 34s 69ms/step - loss: 1010.1218\n",
            "Epoch 13/200\n",
            "485/485 [==============================] - 34s 70ms/step - loss: 997.2112\n",
            "Epoch 14/200\n",
            "485/485 [==============================] - 34s 69ms/step - loss: 999.8586\n",
            "Epoch 15/200\n",
            "485/485 [==============================] - 34s 70ms/step - loss: 1000.9429\n",
            "Epoch 16/200\n",
            "485/485 [==============================] - 35s 71ms/step - loss: 1004.7665\n",
            "Epoch 17/200\n",
            "485/485 [==============================] - 35s 72ms/step - loss: 991.9559\n",
            "Epoch 18/200\n",
            "485/485 [==============================] - 34s 70ms/step - loss: 992.2830\n",
            "Epoch 19/200\n",
            "485/485 [==============================] - 34s 70ms/step - loss: 982.5911\n",
            "Epoch 20/200\n",
            "485/485 [==============================] - 34s 69ms/step - loss: 977.4401\n",
            "Epoch 21/200\n",
            "485/485 [==============================] - 34s 69ms/step - loss: 977.1629\n",
            "Epoch 22/200\n",
            "485/485 [==============================] - 34s 70ms/step - loss: 980.3499\n",
            "Epoch 23/200\n",
            "485/485 [==============================] - 34s 71ms/step - loss: 970.3404\n",
            "Epoch 24/200\n",
            "485/485 [==============================] - 34s 70ms/step - loss: 976.4309\n",
            "Epoch 25/200\n",
            "485/485 [==============================] - 34s 70ms/step - loss: 971.2856\n",
            "Epoch 26/200\n",
            "485/485 [==============================] - 34s 70ms/step - loss: 974.5151\n",
            "Epoch 27/200\n",
            "485/485 [==============================] - 34s 70ms/step - loss: 978.9625\n",
            "Epoch 28/200\n",
            "485/485 [==============================] - 35s 72ms/step - loss: 958.7535\n",
            "Epoch 29/200\n",
            "485/485 [==============================] - 34s 69ms/step - loss: 965.1766\n",
            "Epoch 30/200\n",
            "485/485 [==============================] - 34s 70ms/step - loss: 970.9078\n",
            "Epoch 31/200\n",
            "485/485 [==============================] - 34s 70ms/step - loss: 969.7931\n",
            "Epoch 32/200\n",
            "485/485 [==============================] - 34s 70ms/step - loss: 960.2416\n",
            "Epoch 33/200\n",
            "485/485 [==============================] - 34s 70ms/step - loss: 953.2435\n",
            "Epoch 34/200\n",
            "485/485 [==============================] - 34s 69ms/step - loss: 953.8403\n",
            "Epoch 35/200\n",
            "485/485 [==============================] - 34s 71ms/step - loss: 963.1513\n",
            "Epoch 36/200\n",
            "485/485 [==============================] - 35s 71ms/step - loss: 957.5977\n",
            "Epoch 37/200\n",
            "485/485 [==============================] - 35s 72ms/step - loss: 950.6335\n",
            "Epoch 38/200\n",
            "485/485 [==============================] - 35s 72ms/step - loss: 960.8907\n",
            "Epoch 39/200\n",
            "485/485 [==============================] - 34s 71ms/step - loss: 959.8999\n",
            "Epoch 40/200\n",
            "485/485 [==============================] - 35s 72ms/step - loss: 952.4446\n",
            "Epoch 41/200\n",
            "485/485 [==============================] - 34s 71ms/step - loss: 949.9713\n",
            "Epoch 42/200\n",
            "485/485 [==============================] - 35s 71ms/step - loss: 946.4095\n",
            "Epoch 43/200\n",
            "485/485 [==============================] - 35s 73ms/step - loss: 947.5258\n",
            "Epoch 44/200\n",
            "485/485 [==============================] - 34s 70ms/step - loss: 950.2621\n",
            "Epoch 45/200\n",
            "485/485 [==============================] - 34s 70ms/step - loss: 959.1898\n",
            "Epoch 46/200\n",
            "485/485 [==============================] - 34s 71ms/step - loss: 938.9232\n",
            "Epoch 47/200\n",
            "485/485 [==============================] - 34s 71ms/step - loss: 950.1852\n",
            "Epoch 48/200\n",
            "485/485 [==============================] - 34s 71ms/step - loss: 957.5812\n",
            "Epoch 49/200\n",
            "485/485 [==============================] - 35s 71ms/step - loss: 956.5621\n",
            "Epoch 50/200\n",
            "485/485 [==============================] - 35s 72ms/step - loss: 951.6180\n",
            "Epoch 51/200\n",
            "485/485 [==============================] - 34s 71ms/step - loss: 943.4376\n",
            "Epoch 52/200\n",
            "485/485 [==============================] - 35s 73ms/step - loss: 947.4686\n",
            "Epoch 53/200\n",
            "485/485 [==============================] - 35s 72ms/step - loss: 945.7045\n",
            "Epoch 54/200\n",
            "485/485 [==============================] - 35s 71ms/step - loss: 951.3379\n",
            "Epoch 55/200\n",
            "485/485 [==============================] - 34s 71ms/step - loss: 939.6546\n",
            "Epoch 56/200\n",
            "485/485 [==============================] - 35s 71ms/step - loss: 948.0556\n",
            "Epoch 57/200\n",
            "485/485 [==============================] - 35s 71ms/step - loss: 935.9391\n",
            "Epoch 58/200\n",
            "485/485 [==============================] - 35s 72ms/step - loss: 942.2216\n",
            "Epoch 59/200\n",
            "485/485 [==============================] - 34s 70ms/step - loss: 943.2320\n",
            "Epoch 60/200\n",
            "485/485 [==============================] - 34s 71ms/step - loss: 940.3909\n",
            "Epoch 61/200\n",
            "485/485 [==============================] - 35s 71ms/step - loss: 929.9638\n",
            "Epoch 62/200\n",
            "485/485 [==============================] - 35s 71ms/step - loss: 928.3882\n",
            "Epoch 63/200\n",
            "485/485 [==============================] - 34s 71ms/step - loss: 929.4375\n",
            "Epoch 64/200\n",
            "485/485 [==============================] - 34s 71ms/step - loss: 928.6708\n",
            "Epoch 65/200\n",
            "485/485 [==============================] - 34s 71ms/step - loss: 928.4092\n",
            "Epoch 66/200\n",
            "485/485 [==============================] - 36s 75ms/step - loss: 927.7380\n",
            "Epoch 67/200\n",
            "485/485 [==============================] - 35s 72ms/step - loss: 924.8376\n",
            "Epoch 68/200\n",
            "485/485 [==============================] - 35s 72ms/step - loss: 928.8638\n",
            "Epoch 69/200\n",
            "485/485 [==============================] - 34s 71ms/step - loss: 917.7284\n",
            "Epoch 70/200\n",
            "485/485 [==============================] - 34s 70ms/step - loss: 932.8661\n",
            "Epoch 71/200\n",
            "485/485 [==============================] - 34s 71ms/step - loss: 923.5534\n",
            "Epoch 72/200\n",
            "485/485 [==============================] - 34s 71ms/step - loss: 925.0062\n",
            "Epoch 73/200\n",
            "485/485 [==============================] - 34s 70ms/step - loss: 920.7073\n",
            "Epoch 74/200\n",
            "485/485 [==============================] - 34s 71ms/step - loss: 939.4375\n",
            "Epoch 75/200\n",
            "485/485 [==============================] - 35s 72ms/step - loss: 931.4147\n",
            "Epoch 76/200\n",
            "485/485 [==============================] - 34s 71ms/step - loss: 925.7032\n",
            "Epoch 77/200\n",
            "485/485 [==============================] - 35s 72ms/step - loss: 923.0034\n",
            "Epoch 78/200\n",
            "485/485 [==============================] - 35s 71ms/step - loss: 923.7224\n",
            "Epoch 79/200\n",
            "485/485 [==============================] - 35s 71ms/step - loss: 920.2073\n",
            "Epoch 80/200\n",
            "485/485 [==============================] - 35s 71ms/step - loss: 920.7441\n",
            "Epoch 81/200\n",
            "485/485 [==============================] - 35s 71ms/step - loss: 916.3417\n",
            "Epoch 82/200\n",
            "485/485 [==============================] - 36s 74ms/step - loss: 915.5297\n",
            "Epoch 83/200\n",
            "485/485 [==============================] - 37s 76ms/step - loss: 922.8124\n",
            "Epoch 84/200\n",
            "485/485 [==============================] - 36s 74ms/step - loss: 914.8391\n",
            "Epoch 85/200\n",
            "485/485 [==============================] - 36s 75ms/step - loss: 918.8198\n",
            "Epoch 86/200\n",
            " 88/485 [====>.........................] - ETA: 30s - loss: 937.9385"
          ]
        }
      ]
    },
    {
      "cell_type": "code",
      "source": [
        ""
      ],
      "metadata": {
        "id": "7OyZ0n7qhoz2"
      },
      "execution_count": null,
      "outputs": []
    }
  ],
  "metadata": {
    "colab": {
      "name": "predictTaxiDemandJBTHON.ipynb",
      "provenance": [],
      "collapsed_sections": [],
      "authorship_tag": "ABX9TyP4WMem0swyp/R0EX3iW9Ai",
      "include_colab_link": true
    },
    "kernelspec": {
      "display_name": "Python 3",
      "name": "python3"
    },
    "language_info": {
      "name": "python"
    }
  },
  "nbformat": 4,
  "nbformat_minor": 0
}